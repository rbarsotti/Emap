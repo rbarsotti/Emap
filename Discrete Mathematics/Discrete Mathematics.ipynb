{
 "cells": [
  {
   "cell_type": "markdown",
   "metadata": {
    "collapsed": true
   },
   "source": [
    "# Matemática Discreta\n",
    "###### Rafael Barsotti"
   ]
  },
  {
   "cell_type": "markdown",
   "metadata": {},
   "source": [
    "###### Problem 1)\n",
    "If we list all the natural numbers below 10 that are multiples of 3 or 5, we get 3, 5, 6 and 9. The sum of these multiples is 23. Find the sum of all the multiples of 3 or 5 below 1000."
   ]
  },
  {
   "cell_type": "markdown",
   "metadata": {},
   "source": [
    "###### Esse problema foi fácil devido a clareza do problema e o baixo consumo computacional necessário. Assim mesmo com um algoritimo não tão eficiente, utilizando a função módulo por exemplo foi possível calcular a soma de todos os múltiplos de 3 ou 5 menores que 1000"
   ]
  },
  {
   "cell_type": "code",
   "execution_count": 1,
   "metadata": {},
   "outputs": [],
   "source": [
    "def mult_3_5(n):\n",
    "    s = 0\n",
    "    for i in range(n):\n",
    "        if i%3 == 0 or i%5 == 0:\n",
    "            s = s + i\n",
    "    print(\"A soma de todos os números naturais múltiplos de 3 ou de 5 menores que {} é {}\".format(n,s))"
   ]
  },
  {
   "cell_type": "code",
   "execution_count": 2,
   "metadata": {},
   "outputs": [
    {
     "name": "stdout",
     "output_type": "stream",
     "text": [
      "A soma de todos os números naturais múltiplos de 3 ou de 5 menores que 1000 é 233168\n"
     ]
    }
   ],
   "source": [
    "mult_3_5(10**3)"
   ]
  },
  {
   "cell_type": "markdown",
   "metadata": {},
   "source": [
    "###### Problem 9)\n",
    "\n",
    "There exists exactly one Pythagorean triplet for which a + b + c = 1000.\n",
    "Find the product abc."
   ]
  },
  {
   "cell_type": "markdown",
   "metadata": {},
   "source": [
    "###### Essa questão basta perceber que se você tentar escrever um algoritimo com 3 loops, para testar todos os casos e escrever todos os números pitagóricos e selecionar aquele que a soma é 1000 fica muito custoso computacionalmente, mas percebendo que dados a e b podemos calcular o c correspondente a complexidade cai de O(n3) para O(n2)"
   ]
  },
  {
   "cell_type": "code",
   "execution_count": 1,
   "metadata": {},
   "outputs": [],
   "source": [
    "def pythagorean_triplet():\n",
    "    for a in range(1, 1000):\n",
    "         for b in range(a, 1000):\n",
    "            c = 1000 - a - b\n",
    "            if c > 0:\n",
    "                if c*c == a*a + b*b:\n",
    "                    print(\"Os números pitagóricos são (a,b,c) = {} e seu produto é {}\".format((a,b,c),a*b*c))"
   ]
  },
  {
   "cell_type": "code",
   "execution_count": 2,
   "metadata": {},
   "outputs": [
    {
     "name": "stdout",
     "output_type": "stream",
     "text": [
      "Os números pitagóricos são (a,b,c) = (200, 375, 425) e seu produto é 31875000\n"
     ]
    }
   ],
   "source": [
    "pythagorean_triplet()"
   ]
  },
  {
   "cell_type": "markdown",
   "metadata": {},
   "source": [
    "###### Problem 10)\n",
    "The sum of the primes below 10 is 2 + 3 + 5 + 7 = 17.\n",
    "\n",
    "Find the sum of all the primes below two million."
   ]
  },
  {
   "cell_type": "markdown",
   "metadata": {},
   "source": [
    "###### Esse problema é bem interessante e forma a base para quase todos os outros relacionados a números primos no project euler. Num primeiro momento tentei resolve-lo da mesma forma que resolvi a questão 1, com a modificação de que fosse testado o módulo como todos os números anteriores para verificar se o número era prim ou não. Porém essa solução era ineficente demais para lidar a dimensão desse problema. Então em vez de fazer o algoritimo olhando para trás, fiz ele olhando para frente, isto é, para cada número elimino todos os seus múltiplos menores que 2 milhões. (Sieve de Erasthoetenes)"
   ]
  },
  {
   "cell_type": "code",
   "execution_count": 3,
   "metadata": {},
   "outputs": [],
   "source": [
    "def sum_primes(n):\n",
    "    s_p = 0\n",
    "    sieve = [1] * n\n",
    "    for p in range(2, n):\n",
    "        if sieve[p] == 1:\n",
    "            s_p += p\n",
    "            for i in range(p*p, n, p):\n",
    "                sieve[i] = False\n",
    "    print(\"A soma de todos os números primos até {} é {}\".format(n,s_p))"
   ]
  },
  {
   "cell_type": "code",
   "execution_count": 4,
   "metadata": {},
   "outputs": [
    {
     "name": "stdout",
     "output_type": "stream",
     "text": [
      "A soma de todos os números primos até 2000000 é 142913828922\n"
     ]
    }
   ],
   "source": [
    "n = 2*10**6\n",
    "sum_primes(n)"
   ]
  },
  {
   "cell_type": "markdown",
   "metadata": {},
   "source": [
    "###### Problem 13)\n",
    "Work out the first ten digits of the sum of the following one-hundred 50-digit numbers."
   ]
  },
  {
   "cell_type": "markdown",
   "metadata": {},
   "source": [
    "###### Esse problema é relativamente simples, basta importarmos o número, quebra-lo em uma matriz onde cada casa é um dígito, depoi somamos todos os elementos dessa matriz e por último pegamos o valor da soma e novamente quebramos em uma lista onde retiramos os elementos de índice menor ou igual a 10."
   ]
  },
  {
   "cell_type": "code",
   "execution_count": 71,
   "metadata": {},
   "outputs": [],
   "source": [
    "file = open('/home/nbuser/Number.txt', 'r')\n",
    "text = file.read()\n",
    "text = text.replace(\"\\n\",\"\")\n",
    "\n",
    "def palindrome(x):\n",
    "    x = str(x)\n",
    "    l = []\n",
    "    palindrome = ''\n",
    "    for i in x:\n",
    "        l.append(i)\n",
    "    l.reverse()\n",
    "    for i in l:\n",
    "        palindrome = palindrome+i\n",
    "    return int(palindrome)\n",
    "\n",
    "def sum_number_digits(text):\n",
    "    s = 0\n",
    "    s_10 = []\n",
    "    for i in text:\n",
    "        s += int(i)\n",
    "    for i in range(10):\n",
    "        n = palindrome[i]\n",
    "        s_10.append(n)\n",
    "    print(\"Os últimos 10 dígitos da soma são {}\".format(s_10))"
   ]
  },
  {
   "cell_type": "code",
   "execution_count": 5,
   "metadata": {},
   "outputs": [
    {
     "name": "stdout",
     "output_type": "stream",
     "text": [
      "Os últimos 10 dígitos da soma são 5537376230\n"
     ]
    }
   ],
   "source": [
    "sum_number_digits(text)"
   ]
  },
  {
   "cell_type": "markdown",
   "metadata": {},
   "source": [
    "###### Problem 20)\n",
    "\n",
    "n! means n × (n − 1) × ... × 3 × 2 × 1\n",
    "\n",
    "For example, 10! = 10 × 9 × ... × 3 × 2 × 1 = 3628800,\n",
    "\n",
    "and the sum of the digits in the number 10! is 3 + 6 + 2 + 8 + 8 + 0 + 0 = 27.\n",
    "\n",
    "Find the sum of the digits in the number 100!"
   ]
  },
  {
   "cell_type": "markdown",
   "metadata": {},
   "source": [
    "###### Para resolver esse problema precisei apenas criar uma função que calcula o fatorial de um n qualquer, que mesmo se foses implementado recursivamente dado a natureza linear da recursão ainda seria rápido, para então implementar uma função que recebe um número e conta seus digítos. Para fazer isso basta quebrar o número em um array onde cada elemento corresponde a um dígito e depois fazer a soma de todos os elementos do mesmo. Dado a linearidade de ambos os algoritimos é possível calcular a soma dos digítos de fatoriais bastante grande e uma vez que eles superem o tamnho reservado para \"int\" podemos usar \"double int\" etc..."
   ]
  },
  {
   "cell_type": "code",
   "execution_count": 1,
   "metadata": {},
   "outputs": [],
   "source": [
    "def n_factorial(n):\n",
    "    factorial = 1\n",
    "    for i in range(1,n+1):\n",
    "        factorial = factorial * i\n",
    "    return factorial\n",
    "\n",
    "def sum_digits(x):\n",
    "    x = str(x)\n",
    "    s = 0\n",
    "    for i in x:\n",
    "        s += int(i)\n",
    "    print(\"O fatorial de n é {}, e a soma dos seus digitos é {}\".format(x,s))"
   ]
  },
  {
   "cell_type": "code",
   "execution_count": 2,
   "metadata": {},
   "outputs": [
    {
     "name": "stdout",
     "output_type": "stream",
     "text": [
      "O fatorial de n é 93326215443944152681699238856266700490715968264381621468592963895217599993229915608941463976156518286253697920827223758251185210916864000000000000000000000000, e a soma dos seus digitos é 648\n"
     ]
    }
   ],
   "source": [
    "sum_digits(n_factorial(100))"
   ]
  },
  {
   "cell_type": "markdown",
   "metadata": {},
   "source": [
    "##### Problem 25)\n",
    "What is the index of the first term in the Fibonacci sequence to contain 1000 digits?"
   ]
  },
  {
   "cell_type": "markdown",
   "metadata": {},
   "source": [
    "###### Esse problema também pode ser quebrado em duas partes, na primeira precisamos implementar uma função que gere a sequência de números fibonacci prestando atenção para usarmos \"memoização\" e não uma recursão \"naive\" que teria um custo exponencial se tornando inviável calcular o vigésimo fibonacci por exemplo. Implementado o fibonacci basta fazer uma função que conte o número de dígitos de um número, que semelhante ao do problem anterior pode ser quebrado em um array de dígitos e depois basta descobrirmos o tamanho do array."
   ]
  },
  {
   "cell_type": "code",
   "execution_count": 3,
   "metadata": {},
   "outputs": [],
   "source": [
    "def number_of_digits(x):\n",
    "    x = str(x)\n",
    "    s = 0\n",
    "    for i in x:\n",
    "        s += 1\n",
    "    return s\n",
    "    \n",
    "def fibonacci_n_digits(n):\n",
    "    x0 = 1\n",
    "    x1 = 1\n",
    "    fib = 0\n",
    "    index = 2\n",
    "    while number_of_digits(fib) < n:\n",
    "        fib = x1 + x0\n",
    "        x0 = x1 \n",
    "        x1 = fib\n",
    "        index += 1\n",
    "    print(\"O índice do primeiro número da sequência de fibonacci a ter mil digitos é {}\".format(index))"
   ]
  },
  {
   "cell_type": "code",
   "execution_count": 4,
   "metadata": {},
   "outputs": [
    {
     "name": "stdout",
     "output_type": "stream",
     "text": [
      "O índice do primeiro número da sequência de fibonacci a ter mil digitos é 4782\n"
     ]
    }
   ],
   "source": [
    "fibonacci_n_digits(1000)"
   ]
  },
  {
   "cell_type": "markdown",
   "metadata": {},
   "source": [
    "##### Problem 36)\n",
    "The decimal number, 585 = 1001001001(binary), is palindromic in both bases.\n",
    "Find the sum of all numbers, less than one million, which are palindromic in base 10 and base 2.\n",
    "(Please note that the palindromic number, in either base, may not include leading zeros.)"
   ]
  },
  {
   "cell_type": "markdown",
   "metadata": {},
   "source": [
    "###### Esse problema foi quebrado em duas partes, primeiro montamos uma função capaz de gerar o palíndromo de uma sequência de dígitos ou caractéres, onde dado um número ou uma palavra basta quebra-la em um array e depois re-escrever esse array lendo o índice de trás para frente. Depois precisamos criar uma função capaz de transformar um número em sua forma decimal para sua froma binária, e agora só precisamos iterar todos os números menores que 1 milhão para calcular o palíndromo da sua representação decimal e binária, e se ambas forem respectivamente iguais, basta aumentar aumentar o contador. Novamente, dado a complexidade linear do algoritimo não tive problemas com performance"
   ]
  },
  {
   "cell_type": "code",
   "execution_count": 5,
   "metadata": {},
   "outputs": [],
   "source": [
    "def palindrome(x):\n",
    "    x = str(x)\n",
    "    l = []\n",
    "    palindrome = ''\n",
    "    for i in x:\n",
    "        l.append(i)\n",
    "    l.reverse()\n",
    "    for i in l:\n",
    "        palindrome = palindrome+i\n",
    "    return int(palindrome)\n",
    "\n",
    "def decimal_to_binary(x):\n",
    "    x = bin(x)\n",
    "    x = x[2:]\n",
    "    x = int(x)\n",
    "    return int(x)\n",
    "\n",
    "def sum_palindromes(n):\n",
    "    s = 0\n",
    "    for i in range(n+1):\n",
    "        number_decimal = i\n",
    "        number_binary = decimal_to_binary(number_decimal)\n",
    "        palindrome_decimal = palindrome(number_decimal)\n",
    "        palindrome_binary = palindrome(number_binary)\n",
    "        if number_decimal == palindrome_decimal and number_binary == palindrome_binary:\n",
    "            s = s + number_decimal\n",
    "    print(\"A soma de todos os palíndromos em decimal e binário menores do que {} é {}\".format(n,s))"
   ]
  },
  {
   "cell_type": "code",
   "execution_count": 6,
   "metadata": {},
   "outputs": [
    {
     "name": "stdout",
     "output_type": "stream",
     "text": [
      "A soma de todos os palíndromos em decimal e binário menores do que 1000000 é 872187\n"
     ]
    }
   ],
   "source": [
    "sum_palindromes(10**6)"
   ]
  },
  {
   "cell_type": "markdown",
   "metadata": {},
   "source": [
    "###### Problem 48)\n",
    "The series, $1^1 + 2^2 + 3^3 + ... + 10^{10} = 10405071317$.\n",
    "\n",
    "Find the last ten digits of the series, $1^1 + 2^2 + 3^3 + ... + 1000^{1000}$."
   ]
  },
  {
   "cell_type": "markdown",
   "metadata": {},
   "source": [
    "###### Nesse problema primeiro precisamos calcular o resultado do somatório, o que é trivial (computacionalmente), depois implementamos uma função capaz de receber um número e fazer a soma dos seus últimos 10 dígitos, para isso basta pegarmos o palíndromo do número, quebra-lo em um array e depois somar os elementos de i == 0 até i == 10."
   ]
  },
  {
   "cell_type": "code",
   "execution_count": 26,
   "metadata": {},
   "outputs": [],
   "source": [
    "def series(x):\n",
    "    s = 0\n",
    "    for i in range(x+1):\n",
    "        ith = i**i\n",
    "        s += ith\n",
    "    return s\n",
    "\n",
    "def last_n_digits(s,n):\n",
    "    n = n-1 \n",
    "    s = str(s)\n",
    "    l = []\n",
    "    last_n_digits = ''\n",
    "    for i in s:\n",
    "        l.append(i)\n",
    "    l.reverse()\n",
    "    l = l[0:n+1]\n",
    "    l.reverse()\n",
    "    for i in l:\n",
    "        last_n_digits = last_n_digits+i\n",
    "    last_n_digits = int(last_n_digits)\n",
    "    print(\"Os últimos {} digitos da série são {}\".format(n+1,last_n_digits))"
   ]
  },
  {
   "cell_type": "code",
   "execution_count": 27,
   "metadata": {},
   "outputs": [
    {
     "name": "stdout",
     "output_type": "stream",
     "text": [
      "Os últimos 10 digitos da série são 9110846700\n"
     ]
    }
   ],
   "source": [
    "last_n_digits(series(1000) - 1,10)"
   ]
  },
  {
   "cell_type": "markdown",
   "metadata": {},
   "source": [
    "###### Problem 52)\n",
    "\n",
    "It can be seen that the number, 125874, and its double, 251748, contain exactly the same digits, but in a different order.\n",
    "Find the smallest positive integer, x, such that 2x, 3x, 4x, 5x, and 6x, contain the same digits."
   ]
  },
  {
   "cell_type": "markdown",
   "metadata": {},
   "source": [
    "###### Nesse problema primeiro implementamos uma função que recebe uma lista de n números e testa se todos tem o mesmo dígito. (Para esse problema específico o tamanho da lista será sempre dois mas implementei uma forma mais geral). Munidos dessa função e como queremos o menor número (não trivial), basta fazermos um \"while\" onde a condição é que enquanto os números de n forem diferentes de 2n, 3n, 4n, 5n e 6n teste o sucessor de n"
   ]
  },
  {
   "cell_type": "code",
   "execution_count": 30,
   "metadata": {},
   "outputs": [],
   "source": [
    "def same_digits(a):\n",
    "    l = []\n",
    "    for i in a:\n",
    "        i = [int(i) for i in str(i)]\n",
    "        i = set(i)\n",
    "        l.append(i)\n",
    "    set_0 = l[0]\n",
    "    size = len(l)\n",
    "    count = 0\n",
    "    for i in l:\n",
    "        if set_0 == i:\n",
    "            count += 1\n",
    "    if count == size:\n",
    "        return True\n",
    "    else:\n",
    "        return False\n",
    "\n",
    "def smallest_x():\n",
    "    i = 3\n",
    "    a = [1,2]\n",
    "    while same_digits(a) == False:\n",
    "        i +=1\n",
    "        x2 = 2*i\n",
    "        x3 = 3*i\n",
    "        x4 = 4*i\n",
    "        x5 = 5*i\n",
    "        x6 = 6*i\n",
    "        a = [x2,x3,x4,x5,x6]\n",
    "    print(\"O menor número tal que 2x,3x,4x,5x,6x contém os mesmos dígitos é {}\".format(i))"
   ]
  },
  {
   "cell_type": "code",
   "execution_count": 31,
   "metadata": {},
   "outputs": [
    {
     "name": "stdout",
     "output_type": "stream",
     "text": [
      "O menor número tal que 2x,3x,4x,5x,6x contém os mesmos dígitos é 142857\n"
     ]
    }
   ],
   "source": [
    "smallest_x()"
   ]
  },
  {
   "cell_type": "markdown",
   "metadata": {},
   "source": [
    "###### Problem 104)\n",
    "Given that $F_k$ is the first Fibonacci number for which the first nine digits AND the last nine digits are 1-9 pandigital, find k."
   ]
  },
  {
   "cell_type": "markdown",
   "metadata": {},
   "source": [
    "###### Esse problema foi o de maior número que eu fiz o project euler e precisou ser quebrado em várias partes. Primeiro precisamos de uma função booleana que identifique se um número qual quer é pandigital ou não depois precisamos de duas funções que peguem os 10 primeiros e últimos dígitos de um número e por último precisamos de uma função que calcule a sequência fibonacci. Munido dessas funções basta iterarmos nos números da sequência fibonacci até que um satisfaça a condição de ter os 10 primeiros e últimos dígitos pandigitais. Apesar dos algoritimos não serem tão complexos, devido ao tamanho grande do número fibonacci que apresenta essa característica precisamos armazena-lo com double int. (Esse foi o problema de maior complexidade no ranking do project euler que eu já resolvi)"
   ]
  },
  {
   "cell_type": "code",
   "execution_count": 2,
   "metadata": {},
   "outputs": [],
   "source": [
    "def is_pandigital(x):\n",
    "    x = [int(i) for i in str(x)]\n",
    "    x = set(x)\n",
    "    a = {1,2,3,4,5,6,7,8,9}\n",
    "    if x == a:\n",
    "        return True\n",
    "    else:\n",
    "        return False\n",
    "    \n",
    "def first_10_digits(x):\n",
    "    x = [str(i) for i in str(x)]\n",
    "    first_10_digits = ''\n",
    "    for i in x[0:10]:\n",
    "        first_10_digits = first_10_digits+i\n",
    "    return int(first_10_digits)\n",
    "\n",
    "def last_10_digits(x):\n",
    "    x = [str(i) for i in str(x)]\n",
    "    x.reverse()\n",
    "    last_10_digits = ''\n",
    "    for i in x[0:10]:\n",
    "        last_10_digits = last_10_digits+i\n",
    "    return int(last_10_digits)\n",
    "\n",
    "def find_k():\n",
    "    x0 = 1\n",
    "    x1 = 1\n",
    "    fib = 0\n",
    "    while is_pandigital(first_10_digits(fib)) == False or is_pandigital(last_10_digits(fib)) == False:\n",
    "        fib = x1 + x0\n",
    "        x0 = x1\n",
    "        x1 = fib\n",
    "    return fib\n",
    "    print(\"O {}ésimo número da sequência fibonacci\".format(fib))"
   ]
  },
  {
   "cell_type": "code",
   "execution_count": 1,
   "metadata": {},
   "outputs": [
    {
     "name": "stdout",
     "output_type": "stream",
     "text": [
      "O 329468ésimo número da sequência fibonacci\n"
     ]
    }
   ],
   "source": [
    "find_k()"
   ]
  },
  {
   "cell_type": "markdown",
   "metadata": {},
   "source": [
    "###### Problem 80)\n",
    "It is well known that if the square root of a natural number is not an integer, then it is irrational. The decimal expansion of such square roots is infinite without any repeating pattern at all.\n",
    "\n",
    "The square root of two is 1.41421356237309504880..., and the digital sum of the first one hundred decimal digits is 475.\n",
    "\n",
    "For the first one hundred natural numbers, find the total of the digital sums of the first one hundred decimal digits for all the irrational square roots."
   ]
  },
  {
   "cell_type": "markdown",
   "metadata": {},
   "source": [
    "###### Esse problema foi o primeiro onde utilizei funções de alguma biblioteca do python, sendo uma função para calcular a raíz quadrade de um número (Poderia ter implementado o método de Newton mas não vi necessidade) e uma para utilizar mais casas decimais em um número float. Com essas funções como base, implementei uma função que calcula se a raíz de um número é racional ou irracional e uma outra função que calcula a soma dos 100 primeiros digítos após a casa decimal. Agora basta iterar para os números naturais entre 1 e 100 e testar se sua raíz é racional ou não e se for irracional acumular a soma de seus 100 primeiros dígitos decimais. O maior problema nessa questão é sem dúvida a aproximação das 100 casas decimais, pois precisamos de uma biblioteca mais baixo nível que forneça essa aproximação"
   ]
  },
  {
   "cell_type": "code",
   "execution_count": 64,
   "metadata": {
    "scrolled": true
   },
   "outputs": [],
   "source": [
    "from sympy import sqrt\n",
    "    \n",
    "def sqrt_is_rational(x):\n",
    "    x = str(x)\n",
    "    dot = x.find('.')\n",
    "    s = 0\n",
    "    for i in x[dot+1:]:\n",
    "        s += int(i)\n",
    "    if s == 0:\n",
    "        return True\n",
    "    else:\n",
    "        return False\n",
    "    \n",
    "def sum_100_digits(x):\n",
    "    x = str(x)\n",
    "    dot = x.find('.')\n",
    "    s = 0\n",
    "    for i in x[dot+1:]:\n",
    "        s += int(i)\n",
    "    return s\n",
    "\n",
    "def sum_sqrt_irrational(n):\n",
    "    t = 0\n",
    "    for i in range(n+1):\n",
    "        sqrti = sqrt(i).evalf(101)\n",
    "        if sqrt_is_rational(sqrti) == False:\n",
    "            t += sum_100_digits(sqrti)\n",
    "    print(\"O total da soma dos primeiros 100 dígitos das raízes de todos os números naturais menores que {} é {}\".format(n,t))"
   ]
  },
  {
   "cell_type": "code",
   "execution_count": 2,
   "metadata": {},
   "outputs": [
    {
     "name": "stdout",
     "output_type": "stream",
     "text": [
      "O total da soma dos primeiros 100 dígitos das raízes de todos os números naturais menores que 100 é 40886\n"
     ]
    }
   ],
   "source": [
    "sum_sqrt_irrational(100)"
   ]
  },
  {
   "cell_type": "markdown",
   "metadata": {},
   "source": [
    "###### Problem 92)\n",
    "A number chain is created by continuously adding the square of the digits in a number to form a new number until it has been seen before.\n",
    "\n",
    "For example,\n",
    "\n",
    "44 → 32 → 13 → 10 → 1 → 1\n",
    "\n",
    "85 → 89 → 145 → 42 → 20 → 4 → 16 → 37 → 58 → 89\n",
    "\n",
    "Therefore any chain that arrives at 1 or 89 will become stuck in an endless loop. What is most amazing is that EVERY starting number will eventually arrive at 1 or 89.\n",
    "\n",
    "How many starting numbers below ten million will arrive at 89?"
   ]
  },
  {
   "cell_type": "markdown",
   "metadata": {},
   "source": [
    "###### Esse problema me lembrou inicialmente ao problema da conjectura de Collatz, e apesar de eu não saber resolve-lo analíticamente, computacionalmente é bem menos complicado. Precisamos de três funções, uma que dado um número calcula o próximo da sequência, outra função que dado um número calcula a sequência até o momento que ela entra num loop seja em 1, 89 ou outro número, e depois basta iterarmos nos números menores que 10 milhões, gerarmos a sequência partindo desse número e verificarmos se ela de fato chega a 1 ou 89 e se sim incrementarmos o nosso contador."
   ]
  },
  {
   "cell_type": "code",
   "execution_count": 35,
   "metadata": {},
   "outputs": [],
   "source": [
    "def next_number(x):\n",
    "    x = str(x)\n",
    "    next_number = 0\n",
    "    for i in x:\n",
    "        square_of_digit = int(i)**2\n",
    "        next_number += square_of_digit\n",
    "    return next_number\n",
    "\n",
    "def seq(startingpoint):\n",
    "    l = []\n",
    "    i = startingpoint\n",
    "    while i not in l and 89 not in l:\n",
    "        l.append(i)\n",
    "        i = next_number(i)\n",
    "    return l\n",
    "\n",
    "def starting_numbers_89(n):\n",
    "    c = 0\n",
    "    for i in range(1,n+1):\n",
    "        if 89 in seq(i):\n",
    "            c += 1\n",
    "    print(\"O número de sequências que atingem 89 com valor inicial menor do que {} é {}\".format(n,c))"
   ]
  },
  {
   "cell_type": "code",
   "execution_count": 40,
   "metadata": {},
   "outputs": [
    {
     "name": "stdout",
     "output_type": "stream",
     "text": [
      "O número de sequências que atingem 89 com valor inicial menor do que 10000000 é 8581146\n"
     ]
    }
   ],
   "source": [
    "starting_numbers_89(10**7)"
   ]
  },
  {
   "cell_type": "markdown",
   "metadata": {},
   "source": [
    "###### Problem 74)\n",
    "\n",
    "The number 145 is well known for the property that the sum of the factorial of its digits is equal to 145:\n",
    "\n",
    "1! + 4! + 5! = 1 + 24 + 120 = 145\n",
    "\n",
    "Perhaps less well known is 169, in that it produces the longest chain of numbers that link back to 169; it turns out that there are only three such loops that exist:\n",
    "\n",
    "169 → 363601 → 1454 → 169\n",
    "\n",
    "871 → 45361 → 871\n",
    "\n",
    "872 → 45362 → 872\n",
    "\n",
    "It is not difficult to prove that EVERY starting number will eventually get stuck in a loop. For example,\n",
    "\n",
    "69 → 363600 → 1454 → 169 → 363601 (→ 1454)\n",
    "\n",
    "78 → 45360 → 871 → 45361 (→ 871)\n",
    "\n",
    "540 → 145 (→ 145)\n",
    "\n",
    "Starting with 69 produces a chain of five non-repeating terms, but the longest non-repeating chain with a starting number below one million is sixty terms.\n",
    "\n",
    "How many chains, with a starting number below one million, contain exactly sixty non-repeating terms?"
   ]
  },
  {
   "cell_type": "markdown",
   "metadata": {},
   "source": [
    "###### Esse problema também é de sequências de números porém apesar de ele vir antes do anterior na lista do project euler, eu achei ele mais difíficl. Mas a ideia em si é reutilizar a função fatorial que já implementamos, depois reutilizar a função next number modificando a regra para calcular a soma dos fatoriais dos dígitos e depois podemos reutilizar a função que gera a sequência de números apartir de um n. Depois basta iterarmos nos números menores que 1 milhão e incrementarmos o contador com o tamanho da maio sequência toda vez que o tamanho do termo seguinte for maior do que outro que já passamos. \n",
    "\n",
    "###### Esse problema é importante do ponto vista computacional por que no caso da minha solução ele mostra as vantagens de se modularizar bem o seu código e reaproveita-lo depois. Assim qualquer problema desse estilo agora cai no mesmo tipo de solução onde o código com pouquíssimas alterações resolve um problema aparentemente distinto."
   ]
  },
  {
   "cell_type": "code",
   "execution_count": 29,
   "metadata": {},
   "outputs": [],
   "source": [
    "def factorial(x):\n",
    "    factorial = 1\n",
    "    for i in range(1,x+1):\n",
    "        factorial = factorial*i\n",
    "    return factorial\n",
    "\n",
    "def next_number(x):\n",
    "    x = str(x)\n",
    "    next_number = 0\n",
    "    for i in x:\n",
    "        factorial_of_digit = factorial(int(i)) \n",
    "        next_number += factorial_of_digit\n",
    "    return next_number\n",
    "\n",
    "def seq(startingpoint):\n",
    "    l = []\n",
    "    i = startingpoint\n",
    "    while i not in l and len(l) <= 60:\n",
    "        l.append(i)\n",
    "        i = next_number(i)\n",
    "    return l\n",
    "\n",
    "def seq_60(n):\n",
    "    c = 0\n",
    "    for i in range(1,n+1):\n",
    "        length = len(seq(i))\n",
    "        if length == 60:\n",
    "            c += 1\n",
    "    print(\"O número de sequências com 60 termos não repetidos com valor inicial menor do que {} é {}\".format(n,c))"
   ]
  },
  {
   "cell_type": "code",
   "execution_count": 31,
   "metadata": {},
   "outputs": [
    {
     "name": "stdout",
     "output_type": "stream",
     "text": [
      "O número de sequências com 60 termos não repetidos com valor inicial menor do que 1000000 é 402\n"
     ]
    }
   ],
   "source": [
    "seq_60(1000000)"
   ]
  },
  {
   "cell_type": "markdown",
   "metadata": {},
   "source": [
    "###### Problem 81)\n",
    "Find the minimal path sum, in matrix.txt (right click and \"Save Link/Target As...\"), a 31K text file containing a 80 by 80 matrix, from the top left to the bottom right by only moving right and down."
   ]
  },
  {
   "cell_type": "markdown",
   "metadata": {},
   "source": [
    "###### Esse problema é uma questão clássica de programação dinâmica de estrurua de dados e algoritimos, onde o truque é quebrar o caminho em subcaminhos ótimos. O seguinte vídeo explica bem a ideia :\n",
    "https://www.youtube.com/watch?v=lBRtnuxg-gU\n",
    "\n",
    "###### Basicamente, resolvemos o caminho passo a passo pegando sempre a menor soma possível dado o passo anterior assim o final temos uma matriz onde o elemento máximo do lado direito da matriz já representa a soma total. De todos os problemas que resolvi esse sem dúvida é o que requer melhor manejo computacional, para trabalharmos com a matriz e para termos a sacada de que o problema precisa de programção dinâmica devido a complexidade combinatorial do problema impossibilitando uma solução força bruta para matrizes mesmo pequenas"
   ]
  },
  {
   "cell_type": "code",
   "execution_count": 1,
   "metadata": {},
   "outputs": [],
   "source": [
    "import numpy as np\n",
    "file = \"/home/nbuser/Problem_81.csv\"\n",
    "m = np.loadtxt(file,dtype = 'int',delimiter=',')"
   ]
  },
  {
   "cell_type": "code",
   "execution_count": 2,
   "metadata": {},
   "outputs": [],
   "source": [
    "size = len(matrix)\n",
    "\n",
    "def minimal_path():\n",
    "    for i in range(1, size):\n",
    "        matrix[i][0] += matrix[0][i-1]\n",
    "        for j in range(1, size):\n",
    "            matrix[i][j] += min(matrix[i-1][j], matrix[i][j-1])\n",
    "    for i in range(1,size):\n",
    "        for j in range(1,size):\n",
    "            s += matrix[i][j]      \n",
    "    print(\"A soma do menor caminho é {}\".format(s))"
   ]
  },
  {
   "cell_type": "code",
   "execution_count": 3,
   "metadata": {},
   "outputs": [
    {
     "name": "stdout",
     "output_type": "stream",
     "text": [
      "A soma do menor caminho é 427337\n"
     ]
    }
   ],
   "source": [
    "minimal_path()"
   ]
  },
  {
   "cell_type": "markdown",
   "metadata": {},
   "source": [
    "###### Problem 31)"
   ]
  },
  {
   "cell_type": "markdown",
   "metadata": {},
   "source": [
    "How many different ways can £2 be made using any number of coins?"
   ]
  },
  {
   "cell_type": "markdown",
   "metadata": {},
   "source": [
    "###### Esse problema é análogo ao anterior, no sentido que se formos fazer todas as combinações de trocos para depois vermos quais somam 2 libras se torna inviável computacionalmente. Porém basta perceber que o número total de trocados é dados pelo número total de trocados utilizando uma moeda i somado ao número total de trocados não utilizando a moeda i. Porém como essa recorrência tem complexidade computacional exponencial (Semelhante ao Fibonacci Naive) onde vários cálculos são feitos redundantemente, basta armazernamos o valor na lista sol e depois somarmos."
   ]
  },
  {
   "cell_type": "code",
   "execution_count": 8,
   "metadata": {},
   "outputs": [],
   "source": [
    "def change():\n",
    "    coins = [1, 2, 5, 10, 20, 50, 100, 200]\n",
    "    sol = [1] + [0]*200\n",
    "    for coin in coins:\n",
    "        for i in range(coin, 201):\n",
    "            sol[i] = sol[i] + sol[i-coin]\n",
    "    solv = sol[200]\n",
    "    print(\"O número total de trocados de 2 libras é {}\".format(solv))"
   ]
  },
  {
   "cell_type": "code",
   "execution_count": 9,
   "metadata": {},
   "outputs": [
    {
     "name": "stdout",
     "output_type": "stream",
     "text": [
      "O número total de trocados de 2 libras é 73682\n"
     ]
    }
   ],
   "source": [
    "change()"
   ]
  },
  {
   "cell_type": "markdown",
   "metadata": {},
   "source": [
    "###### Problem 76)"
   ]
  },
  {
   "cell_type": "markdown",
   "metadata": {},
   "source": [
    "How many different ways can one hundred be written as a sum of at least two positive integers?"
   ]
  },
  {
   "cell_type": "markdown",
   "metadata": {},
   "source": [
    "###### Esse problema e analogo ao das moedas, com a alteracao que agora as moedas sao todos os numeros menores que n "
   ]
  },
  {
   "cell_type": "code",
   "execution_count": 4,
   "metadata": {},
   "outputs": [],
   "source": [
    "def sum_ways(n):\n",
    "    coins = range(1, n)\n",
    "    sol = [1] + [0]*n\n",
    "    for i in coins:\n",
    "        for j in range(i, n+1):\n",
    "            sol[j] = sol[j] + sol[j-n]\n",
    "    solv = sol[n]\n",
    "    print(\"O número total de possibilidade de escrever {} é {}\".format(n,solv))"
   ]
  },
  {
   "cell_type": "code",
   "execution_count": 5,
   "metadata": {},
   "outputs": [
    {
     "name": "stdout",
     "output_type": "stream",
     "text": [
      "O número total de possibilidade de escrever 100 é 190569291\n"
     ]
    }
   ],
   "source": [
    "sum_ways(100)"
   ]
  }
 ],
 "metadata": {
  "kernelspec": {
   "display_name": "Python 3",
   "language": "python",
   "name": "python3"
  },
  "language_info": {
   "codemirror_mode": {
    "name": "ipython",
    "version": 3
   },
   "file_extension": ".py",
   "mimetype": "text/x-python",
   "name": "python",
   "nbconvert_exporter": "python",
   "pygments_lexer": "ipython3",
   "version": "3.6.6"
  }
 },
 "nbformat": 4,
 "nbformat_minor": 2
}
