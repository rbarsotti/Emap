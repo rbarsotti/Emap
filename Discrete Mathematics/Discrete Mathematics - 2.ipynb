{
 "cells": [
  {
   "cell_type": "markdown",
   "metadata": {
    "collapsed": true
   },
   "source": [
    "# Matemática Discreta - A2\n",
    "### Otimização Rede de Transporte\n",
    "###### Rafael Barsotti\n",
    "###### Rafael Figueredo"
   ]
  },
  {
   "cell_type": "markdown",
   "metadata": {},
   "source": [
    "###### Problema: Implementar um algoritmo capaz de otimizar as quantidades que devem ser enviadas de um conjunto de nós de \"oferta\" para um conjunto de nós de \"demanda\" minimizando o custo total de transporte das arestas entre (i,j)."
   ]
  },
  {
   "cell_type": "markdown",
   "metadata": {},
   "source": [
    "###### Método: Para resolver esse problema utilizaremos programação linear (simplex) vs guloso."
   ]
  },
  {
   "cell_type": "code",
   "execution_count": 3,
   "metadata": {},
   "outputs": [],
   "source": [
    "import warnings\n",
    "warnings.filterwarnings('ignore')\n",
    "from IPython.display import Image\n",
    "import numpy as np\n",
    "import pandas as pd\n",
    "import matplotlib.pyplot as plt\n",
    "import networkx as nx\n",
    "from scipy.optimize import linprog\n",
    "import geopy\n",
    "from geopy.geocoders import Nominatim\n",
    "from geopy.distance import vincenty"
   ]
  },
  {
   "cell_type": "markdown",
   "metadata": {},
   "source": [
    "<p align=\"center\">\n",
    "  <img src=\"http://docsdrive.com/images/ansinet/jas/2012/fig1-2k12-2430-2435.gif\"/></p>"
   ]
  },
  {
   "cell_type": "markdown",
   "metadata": {},
   "source": [
    "<h3><center> Exemplo: </center></h3>"
   ]
  },
  {
   "cell_type": "markdown",
   "metadata": {},
   "source": [
    "<h3><center> Matriz de Distância</center></h3>\n",
    "\n",
    "|   |  Rio | SP  |  \n",
    "|---|---|---|---|---|\n",
    "|  Curitiba |  842,5 | 416,6  | \n",
    "|  Salvador |  1.631,4 | 2.027,2  |   \n",
    "|  Vitória |  523,2 | 953,8 |   "
   ]
  },
  {
   "cell_type": "markdown",
   "metadata": {},
   "source": [
    "<h3><center> Matriz de Transporte</center></h3>\n",
    "\n",
    "|   |  SP | Rio  |  Oferta |\n",
    "|---|---|---|---|---|---|\n",
    "|  Curitiba |  80  | 215  | 1000 | \n",
    "|  Salvador |  100  | 108  | 1300 |  \n",
    "|  Vitória  |  102  | 68 | 1200 |\n",
    "|  Demanda  |  2300  | 1400 | |"
   ]
  },
  {
   "cell_type": "markdown",
   "metadata": {},
   "source": [
    "$Minimize$  $z = 80x_{11} + 215x_{12} + 100x_{21} + 108x_{22} + 102x_{31} + 68x_{32}$\n",
    "\n",
    "$s.t$\n",
    "\n",
    "$x_{11} + x_{12} = 1000$\n",
    "\n",
    "$x_{21} + x_{22} = 1300$ \n",
    "\n",
    "$x_{31} + x_{32} = 1200$\n",
    "\n",
    "$x_{11} + x_{21} + x_{31} = 2300$\n",
    "\n",
    "$x_{12} + x_{22} + x_{32} = 1400$\n",
    "\n",
    "$x_{i,j} \\geq 0$ "
   ]
  },
  {
   "cell_type": "code",
   "execution_count": 18,
   "metadata": {},
   "outputs": [
    {
     "name": "stdout",
     "output_type": "stream",
     "text": [
      "O vetor de quantidades ótimas é      fun: 313200.0\n",
      " message: 'Optimization terminated successfully.'\n",
      "     nit: 7\n",
      "   slack: array([], dtype=float64)\n",
      "  status: 0\n",
      " success: True\n",
      "       x: array([1000.,    0., 1300.,  200.,    0., 1200.])\n"
     ]
    }
   ],
   "source": [
    "# Utilizando Solver de Programação Linear \n",
    "# Ex.1 \n",
    "# Demanda == Oferta\n",
    "\n",
    "def lin_solver_1():\n",
    "    c = np.array([80, 215, 100, 108, 102 , 68])\n",
    "\n",
    "    A = np.array([[1,1,0,0,0,0],\n",
    "                  [0,0,1,1,0,0],\n",
    "                  [0,0,0,0,1,1],\n",
    "                  [1,0,1,0,1,0],\n",
    "                  [0,1,0,1,0,1]]) \n",
    "     \n",
    "    b = np.array([1000, 1500, 1200, 2300, 1400])\n",
    "\n",
    "    res = linprog(c,A_eq=A, b_eq = b,bounds=(0, None))\n",
    "    print(\"O vetor de quantidades ótimas é {}\".format(res))\n",
    "\n",
    "lin_solver_1()"
   ]
  },
  {
   "cell_type": "markdown",
   "metadata": {},
   "source": [
    "<h3><center> Demanda &ge; Oferta </center></h3>"
   ]
  },
  {
   "cell_type": "markdown",
   "metadata": {},
   "source": [
    "<h3><center> Matriz de Transporte</center></h3>\n",
    "\n",
    "|   |  SP | Rio  | Oferta |\n",
    "|---|---|---|---|---|---|\n",
    "|  Curitiba |  80  | 215  | 1000 |\n",
    "|  Salvador |  100  | 108  | 1300  |\n",
    "|  Vitória  |  102  | 68 | 1200 |\n",
    "|  Dummy  |   0 | 0 | 200 | \n",
    "|  Demanda  |   2300 | 1400 |  |\n"
   ]
  },
  {
   "cell_type": "markdown",
   "metadata": {},
   "source": [
    "$Minimize$  $z = 80x_{1,1} + 215x_{1,2} + 100x_{2,1} + 108x_{2,2} + 102x_{3,1} + 68x_{3,2} + 0x_{4,1} + 0x_{4,2}$\n",
    "\n",
    "$s.t$\n",
    "\n",
    "$x_{1,1} + x_{1,2} = 1000$\n",
    "\n",
    "$x_{2,1} + x_{2,2} = 1300$ \n",
    "\n",
    "$x_{3,1} + x_{3,2} = 1200$\n",
    "\n",
    "$x_{4,1} + x_{4,2} = 200$\n",
    "\n",
    "$x_{1,1} + x_{2,1} + x_{3,1} + x_{4,1} = 2300$\n",
    "\n",
    "$x_{1,2} + x_{2,2} + x_{3,2} + x_{4,2} = 1400$\n",
    "\n",
    "\n",
    "$x_{i,j} \\geq 0$ "
   ]
  },
  {
   "cell_type": "code",
   "execution_count": 22,
   "metadata": {},
   "outputs": [
    {
     "name": "stdout",
     "output_type": "stream",
     "text": [
      "O vetor de quantidades ótimas é      fun: 291600.0\n",
      " message: 'Optimization terminated successfully.'\n",
      "     nit: 10\n",
      "   slack: array([], dtype=float64)\n",
      "  status: 0\n",
      " success: True\n",
      "       x: array([1000.,    0., 1300.,    0.,    0., 1200.,    0.,  200.])\n"
     ]
    }
   ],
   "source": [
    "# Utilizando Solver de Programação Linear \n",
    "# Ex.1 \n",
    "# Demanda > Oferta\n",
    "\n",
    "def lin_solver_2():\n",
    "    c = np.array([80, 215, 100, 108, 102 , 68, 0, 0])\n",
    "\n",
    "    A = np.array([[1,1,0,0,0,0,0,0],\n",
    "                  [0,0,1,1,0,0,0,0],\n",
    "                  [0,0,0,0,1,1,0,0],\n",
    "                  [0,0,0,0,0,0,1,1],\n",
    "                  [1,0,1,0,1,0,1,0],\n",
    "                  [0,1,0,1,0,1,0,1]]) \n",
    "     \n",
    "    b = np.array([1000, 1300, 1200, 200, 2300, 1400])\n",
    "\n",
    "    res = linprog(c,A_eq=A, b_eq = b,bounds=(0, None))\n",
    "    print(\"O vetor de quantidades ótimas é {}\".format(res))\n",
    "    \n",
    "lin_solver_2()"
   ]
  },
  {
   "cell_type": "markdown",
   "metadata": {},
   "source": [
    "<h3><center> Demanda &le; Oferta </center></h3>"
   ]
  },
  {
   "cell_type": "markdown",
   "metadata": {},
   "source": [
    "<h3><center> Matriz de Transporte</center></h3>\n",
    "\n",
    "|   |  SP | Rio  | Dummy | Oferta |\n",
    "|---|---|---|---|---|---| ---|\n",
    "|  Curitiba |  80  | 215  | 0 | 1000 |\n",
    "|  Salvador |  100  | 108 | 0 | 1500|\n",
    "|  Vitória  |  102  | 68 | 0 |  1200 |\n",
    "|  Demanda  |  1900  | 1400 | 400 | |"
   ]
  },
  {
   "cell_type": "markdown",
   "metadata": {},
   "source": [
    "$Minimize$  $z = 80x_{1,1} + 215x_{1,2} + 0x_{1,3} + 100x_{2,1} + 108x_{2,2} + 0x_{2,3} + 102x_{3,1} + 68x_{3,2} + 0x_{3,3} $\n",
    "\n",
    "$s.t$\n",
    "\n",
    "$x_{1,1} + x_{1,2} = 1000$\n",
    "\n",
    "$x_{2,1} + x_{2,2} = 1500$ \n",
    "\n",
    "$x_{3,1} + x_{3,2} = 1200$\n",
    "\n",
    "$x_{1,1} + x_{2,1} + x_{3,1} = 1900$\n",
    "\n",
    "$x_{1,2} + x_{2,2} + x_{3,2} = 1400$\n",
    "\n",
    "$x_{1,3} + x_{2,3} + x_{3,3} = 400$\n",
    "\n",
    "\n",
    "$x_{i,j} \\geq 0$ "
   ]
  },
  {
   "cell_type": "code",
   "execution_count": 16,
   "metadata": {},
   "outputs": [
    {
     "name": "stdout",
     "output_type": "stream",
     "text": [
      "O vetor de quantidades ótimas é      fun: 273200.0\n",
      " message: 'Optimization terminated successfully.'\n",
      "     nit: 9\n",
      "   slack: array([], dtype=float64)\n",
      "  status: 0\n",
      " success: True\n",
      "       x: array([1000.,    0.,    0.,  900.,  200.,  400.,    0., 1200.,    0.])\n"
     ]
    }
   ],
   "source": [
    "# Utilizando Solver de Programação Linear \n",
    "# Ex.1 \n",
    "# Demanda < Oferta\n",
    "\n",
    "def lin_solver_3():\n",
    "    c = np.array([80, 215, 0, 100, 108, 0, 102 , 68, 0])\n",
    "\n",
    "    A = np.array([[1,1,1,0,0,0,0,0,0],\n",
    "                  [0,0,0,1,1,1,0,0,0],\n",
    "                  [0,0,0,0,0,0,1,1,1],\n",
    "                  [1,0,0,1,0,0,1,0,0],\n",
    "                  [0,1,0,0,1,0,0,1,0],\n",
    "                  [0,0,1,0,0,1,0,0,1]]) \n",
    "     \n",
    "    b = np.array([1000, 1500, 1200, 1900, 1400, 400])\n",
    "\n",
    "    res = linprog(c,A_eq=A, b_eq = b,bounds=(0, None))\n",
    "    print(\"O vetor de quantidades ótimas é {}\".format(res))\n",
    "\n",
    "lin_solver_3()"
   ]
  },
  {
   "cell_type": "markdown",
   "metadata": {},
   "source": [
    "<h3><center> Solver Geral </center></h3>"
   ]
  },
  {
   "cell_type": "code",
   "execution_count": 129,
   "metadata": {},
   "outputs": [],
   "source": [
    "# Algoritmo que puxa dados de 3 csv`s e monta um grafo bipartido utilizando um solver simplex para otimizar as\n",
    "# quantidades que devem ser enviadas nos arcos (i,j)\n",
    "\n",
    "# Lista de Adjacência\n",
    "def get_local_edge_list():\n",
    "    location = r\"/home/nbuser/library/Edge_List_UTF8.csv\"\n",
    "    df = pd.read_csv(location,header=0, quotechar='\"',sep=';',encoding='utf8')\n",
    "    df = df.as_matrix()\n",
    "    edge_list = []\n",
    "    for i in range(len(df) - 1):\n",
    "        edge = (df[i,0],df[i,1])\n",
    "        edge_list.append(edge)\n",
    "    return edge_list\n",
    "\n",
    "\n",
    "# Tabela de Nó,Oferta\n",
    "def get_local_supply_nodes():\n",
    "    location = r\"/home/nbuser/library/Supply_Nodes_UTF8.csv\"\n",
    "    df = pd.read_csv(location,header=0, quotechar='\"',sep=';',encoding='utf8')\n",
    "    df = df.as_matrix()\n",
    "    return df\n",
    "\n",
    "\n",
    "# Tabela de Nó,Demanda\n",
    "def get_local_demand_nodes():\n",
    "    location = r\"/home/nbuser/library/Demand_Nodes_UTF8.csv\"\n",
    "    df = pd.read_csv(location,header=0, quotechar='\"',sep=';',encoding='utf8')\n",
    "    df = df.as_matrix()\n",
    "    return df\n",
    "\n",
    "\n",
    "# Plota Grafo\n",
    "def plot_local_edge_list():\n",
    "    Supply_Nodes = get_local_supply_nodes()\n",
    "    Supply_Nodes = list(Supply_Nodes[:,1])\n",
    "    Demand_Nodes = get_local_demand_nodes()\n",
    "    Demand_Nodes = list(Demand_Nodes[:,1])\n",
    "    Edge_List = get_local_edge_list()\n",
    "    \n",
    "    B = nx.Graph()\n",
    "    B.add_nodes_from(Supply_Nodes, bipartite=0) \n",
    "    B.add_nodes_from(Demand_Nodes, bipartite=1)\n",
    "    B.add_edges_from(Edge_List)\n",
    "    l, r = nx.bipartite.sets(B)\n",
    "    pos = {}\n",
    "    pos.update((node, (1, index)) for index, node in enumerate(l))\n",
    "    pos.update((node, (2, index)) for index, node in enumerate(r))\n",
    "    nx.draw(B, pos=pos,with_labels=True)\n",
    "    return plt.show()\n",
    "\n",
    "\n",
    "# Distância Duas Cidades\n",
    "def distance(start, end):\n",
    "    geolocator = Nominatim()\n",
    "    one = geolocator.geocode(start)\n",
    "    two = geolocator.geocode(end)\n",
    "    return round(vincenty((one.latitude, one.longitude), (two.latitude, two.longitude)).miles * 1.6, 1)\n",
    "\n",
    "\n",
    "# Printa Distância entre Cidades\n",
    "def distance_edge_list():\n",
    "    edge_list = get_local_edge_list()\n",
    "    l = []\n",
    "    for i in edge_list:\n",
    "        start = i[0]\n",
    "        end = i[1]\n",
    "        d = distance(start,end)\n",
    "        print(\"A distância entre {} e {} é {} km.\".format(start,end,d))\n",
    "        \n",
    "# General Solver\n",
    "def general_solver(df):\n",
    "    df = df.sort_values(['SUPPLY','DEMAND'])\n",
    "    SUPPLY_index = df.columns.get_loc('SUPPLY')\n",
    "    supply.index = df.columns.get_loc('AMOUNT')\n",
    "    supply = list(pd.unique(df.EdgeList))\n",
    "    supply = [x for x in supply if str(x) != 'nan']\n",
    "    hist_supply_columns = []\n",
    "    for i in supply:\n",
    "        column_name = 'Demand_'+str(i)\n",
    "        df[column_name] = 0\n",
    "        supply_index = df.columns.get_loc(column_name)\n",
    "        supply_columns.append(supply_nodes)\n",
    "    supply_indexes = list(zip(supply,supply_columns))\n",
    "    columns = list(df.columns)\n",
    "    df = df.as_matrix()\n",
    "    for i in range(len(supply_indexes)):\n",
    "        demand_atual = supply_indexes[i][0]\n",
    "        coluna_atual = supply_indexes[i][1]\n",
    "        for j in range(1,len(df)):\n",
    "            if df[j-1,categoria_demand_index] == demand_atual or (df[j,SUPPLY_index] == df[j-1,SUPPLY_index] and \n",
    "                                                                  df[j-1,coluna_atual] == 1):\n",
    "                df[j,coluna_atual] = 1\n",
    "    df = pd.DataFrame(df, columns = columns)\n",
    "    return df"
   ]
  },
  {
   "cell_type": "code",
   "execution_count": 130,
   "metadata": {
    "scrolled": false
   },
   "outputs": [
    {
     "data": {
      "image/png": "[encoded data removed]",
      "text/plain": [
       "<matplotlib.figure.Figure at 0x7f041bb0cdd8>"
      ]
     },
     "metadata": {},
     "output_type": "display_data"
    },
    {
     "name": "stdout",
     "output_type": "stream",
     "text": [
      "A distância entre Vitória e Shanghai é 9967.8 km.\n",
      "A distância entre Vitória e Guangzhou é 10143.2 km.\n",
      "A distância entre São Luís e Shanghai é 16403.6 km.\n",
      "A distância entre São Luís e Guangzhou é 16598.8 km.\n",
      "A distância entre São Luís e Los Angeles é 8648.7 km.\n",
      "A distância entre São Luís e Tokyo é 16327.3 km.\n",
      "A distância entre Vancouver e Shanghai é 8993.8 km.\n",
      "A distância entre Vancouver e Guangzhou é 10187.8 km.\n",
      "A distância entre Vancouver e Los Angeles é 1725.9 km.\n",
      "A distância entre Vancouver e Tokyo é 7625.4 km.\n",
      "A distância entre Maputo e Shanghai é 11284.2 km.\n",
      "A distância entre Maputo e Guangzhou é 10170.3 km.\n",
      "A distância entre Maputo e Los Angeles é 17008.0 km.\n"
     ]
    }
   ],
   "source": [
    "plot_local_edge_list()\n",
    "distance_edge_list()"
   ]
  },
  {
   "cell_type": "code",
   "execution_count": 3,
   "metadata": {},
   "outputs": [
    {
     "name": "stdout",
     "output_type": "stream",
     "text": [
      "O vetor de quantidades ótimas é [2271.34, 1423.65, 4494.78, 1973.32, 2644.1, 2140.12, 1803.4, 4700.57, 2686.77, 4489.23, 766.9, 1756.63, 4659.82]\n"
     ]
    }
   ],
   "source": [
    "general_solver(df)"
   ]
  },
  {
   "cell_type": "markdown",
   "metadata": {},
   "source": [
    "<h3><center> Algoritmo Guloso </center></h3>"
   ]
  },
  {
   "cell_type": "code",
   "execution_count": 17,
   "metadata": {},
   "outputs": [],
   "source": [
    "# Segue um algoritimo guloso simples que buscar abastecer o no de demanda pelos nos de oferta mais proximos\n",
    "# ate que sua demanda seja satisfeita\n",
    "# (As unicas funcoes nao definidas aqui e utilizadas sao as de leitura dos arquivos csv definidas anteriormente)\n",
    "\n",
    "# Sort Shipping List Based on Proximity\n",
    "def getNearestNeighbor(df):\n",
    "    nearest = [-1, float(\"inf\")]\n",
    "    for index in range(len(nodes)):\n",
    "        if i == index or nodes[index][3] == True:\n",
    "            pass\n",
    "        else:\n",
    "            distance = distance(nodes[index], nodes[index])\n",
    "            if distance < nearest[1]:\n",
    "                nearest = [index, distance]\n",
    "    nodes[nearest[0]][3] = True\n",
    "    return nearest\n",
    "\n",
    "#Calculate `best` Shipping on a given set of vertexes\n",
    "def nearestNeighbor(nodes):\n",
    "    demand = []\n",
    "    supply = [[],0]\n",
    "    first = getNearestNeighbor(0)\n",
    "    demand.append(first)\n",
    "    next = first\n",
    "    for index in range(1,len(nodes)):\n",
    "        cur = getNearestNeighbor(next[0])\n",
    "        data.append(cur)\n",
    "        next = cur\n",
    "\n",
    "    for element in data:\n",
    "        supply[1] += element[1]\n",
    "        supply[0].append(element[0])\n",
    "    supply.append(distance(nodes[supply[0][-1]],nodes[supply[0][0]]))\n",
    "    print(\"O vetor de quantidades ótimas é {}\".format(supply))"
   ]
  },
  {
   "cell_type": "code",
   "execution_count": 16,
   "metadata": {},
   "outputs": [
    {
     "name": "stdout",
     "output_type": "stream",
     "text": [
      "O vetor de quantidades ótimas é [3171.37, 1023, 5594.78, 2106.15, 1435.19, 890.72, 1504.4, 5043.9, 1546.27, 7632.33, 766.17, 2341.55, 2754.28]\n"
     ]
    }
   ],
   "source": [
    "nearestNeighbor(nodes)"
   ]
  },
  {
   "cell_type": "markdown",
   "metadata": {},
   "source": [
    "<h3><center> Relatório </center></h3>"
   ]
  },
  {
   "cell_type": "markdown",
   "metadata": {},
   "source": [
    "<p>Nesse segundo trabalho de matemática escolhemos fazer sobre otimização em redes com o objetivo de montar um \"produto\" bem geral capaz de utilizarmos em nossos estágios ou outras oportunidades. Apesar de termos lido sobre metodos mais gerais escolhemos dividir o trabalho em um algoritmo de programação linear e um algoritmo guloso. A vantagem principal sendo se aprofundar mais em programação linear que pode ser extensamente usado em diversas aplicações industriais (como no exemplo acima) e financeiras como alocação de ativos de um portfólio. A maior dificuldade foi justamente modelar o problema de forma linear mas apos alguns exemplos entendemos a ideia e conseguimos montar balanceando os fluxos nos nós. Utilizamos como base o livro de pesquisa operacional do Taha.</p>"
   ]
  },
  {
   "cell_type": "code",
   "execution_count": null,
   "metadata": {},
   "outputs": [
    {
     "name": "stderr",
     "output_type": "stream",
     "text": [
      "Using TensorFlow backend.\n"
     ]
    }
   ],
   "source": [
    "import keras"
   ]
  },
  {
   "cell_type": "code",
   "execution_count": 2,
   "metadata": {},
   "outputs": [],
   "source": [
    "import gym"
   ]
  },
  {
   "cell_type": "code",
   "execution_count": null,
   "metadata": {},
   "outputs": [
    {
     "name": "stdout",
     "output_type": "stream",
     "text": [
      "Collecting h2o\n",
      "\u001b[?25l  Downloading https://files.pythonhosted.org/packages/42/7d/8f1d4487e0456731ac628a834db79825b6afe960ae75955a27c2468f5953/h2o-3.18.0.11.tar.gz (130.6MB)\n",
      "\u001b[K    100% |████████████████████████████████| 130.6MB 2.7kB/s ta 0:00:01 0% |                                | 204kB 1.9MB/s eta 0:01:08    0% |                                | 358kB 2.5MB/s eta 0:00:52    0% |▏                               | 491kB 1.3MB/s eta 0:01:43    0% |▏                               | 624kB 2.0MB/s eta 0:01:07    1% |▍                               | 1.7MB 1.2MB/s eta 0:01:50    3% |█▏                              | 4.9MB 346kB/s eta 0:06:03    7% |██▌                             | 10.4MB 335kB/s eta 0:05:58    9% |███                             | 12.1MB 623kB/s eta 0:03:11    10% |███▎                            | 13.3MB 650kB/s eta 0:03:01    10% |███▌                            | 14.3MB 555kB/s eta 0:03:30    11% |███▋                            | 14.7MB 1.2MB/s eta 0:01:39    12% |████                            | 16.1MB 1.3MB/s eta 0:01:30    12% |████                            | 16.7MB 1.9MB/s eta 0:01:00    12% |████▏                           | 17.0MB 1.9MB/s eta 0:01:00    13% |████▏                           | 17.2MB 2.0MB/s eta 0:00:56    13% |████▍                           | 17.9MB 1.7MB/s eta 0:01:08    14% |████▊                           | 19.5MB 1.6MB/s eta 0:01:11    15% |█████                           | 20.5MB 1.1MB/s eta 0:01:36    15% |█████                           | 20.8MB 1.2MB/s eta 0:01:32    16% |█████▏                          | 21.1MB 1.2MB/s eta 0:01:32    16% |█████▎                          | 21.7MB 865kB/s eta 0:02:06    16% |█████▍                          | 21.9MB 1.4MB/s eta 0:01:20    17% |█████▋                          | 22.8MB 2.1MB/s eta 0:00:51    19% |██████▍                         | 25.9MB 1.5MB/s eta 0:01:11    20% |██████▌                         | 26.6MB 1.6MB/s eta 0:01:07    21% |███████                         | 28.6MB 1.4MB/s eta 0:01:15    23% |███████▍                        | 30.4MB 1.8MB/s eta 0:00:57    23% |███████▋                        | 31.2MB 644kB/s eta 0:02:35    24% |████████                        | 32.6MB 1.8MB/s eta 0:00:55    25% |████████                        | 33.0MB 1.1MB/s eta 0:01:30    25% |████████▏                       | 33.1MB 1.4MB/s eta 0:01:11    27% |████████▊                       | 35.5MB 2.0MB/s eta 0:00:47    28% |█████████▏                      | 37.6MB 2.8MB/s eta 0:00:33    31% |██████████                      | 40.9MB 4.0MB/s eta 0:00:23    32% |██████████▎                     | 42.0MB 2.7MB/s eta 0:00:33    34% |███████████                     | 45.4MB 2.6MB/s eta 0:00:33         | 47.4MB 1.7MB/s eta 0:00:50    36% |███████████▉                    | 48.3MB 2.7MB/s eta 0:00:31��█████████▌                   | 50.9MB 2.8MB/s eta 0:00:29    40% |█████████████                   | 53.0MB 1.9MB/s eta 0:00:42    41% |█████████████▍                  | 54.5MB 3.6MB/s eta 0:00:22    41% |█████████████▍                  | 54.7MB 2.0MB/s eta 0:00:39 1.9MB/s eta 0:00:41    42% |█████████████▋                  | 55.7MB 2.2MB/s eta 0:00:34    43% |██████████████                  | 57.1MB 1.7MB/s eta 0:00:44    46% |███████████████                 | 61.2MB 1.8MB/s eta 0:00:39    47% |███████████████▎                | 62.3MB 2.8MB/s eta 0:00:25   48% |███████████████▊                | 63.9MB 1.9MB/s eta 0:00:36    49% |███████████████▊                | 64.3MB 1.6MB/s eta 0:00:41   49% |███████████████▉                | 64.6MB 2.5MB/s eta 0:00:27    51% |████████████████▍               | 66.8MB 3.3MB/s eta 0:00:20     | 68.4MB 1.9MB/s eta 0:00:33��████████▏              | 70.1MB 3.0MB/s eta 0:00:20��█████████              | 73.1MB 1.6MB/s eta 0:00:36[K    56% |██████████████████▏             | 74.3MB 2.5MB/s eta 0:00:23[K    57% |██████████████████▍             | 75.0MB 6.8MB/s eta 0:00:09[K    59% |███████████████████             | 77.7MB 2.5MB/s eta 0:00:22    61% |███████████████████▌            | 79.8MB 2.6MB/s eta 0:00:20      | 80.9MB 4.0MB/s eta 0:00:13    62% |████████████████████            | 81.8MB 2.2MB/s eta 0:00:23�█████████▊           | 84.7MB 1.6MB/s eta 0:00:29    66% |█████████████████████▍          | 87.4MB 2.0MB/s eta 0:00:22    67% |█████████████████████▌          | 87.8MB 4.0MB/s eta 0:00:11    67% |█████████████████████▋          | 88.1MB 1.6MB/s eta 0:00:27 |█████████████████████▊          | 88.6MB 1.5MB/s eta 0:00:282MB 2.6MB/s eta 0:00:16    71% |██████████████████████▉         | 93.2MB 3.5MB/s eta 0:00:112MB 1.9MB/s eta 0:00:19██████▎        | 94.9MB 2.6MB/s eta 0:00:14██████▊        | 96.7MB 2.8MB/s eta 0:00:12    74% |███████████████████████▊        | 97.0MB 2.9MB/s eta 0:00:12    74% |████████████████████████        | 97.8MB 3.2MB/s eta 0:00:11    75% |████████████████████████        | 98.2MB 2.2MB/s eta 0:00:15��█████████████▏       | 98.5MB 1.6MB/s eta 0:00:21��█████████████████▎       | 99.3MB 2.2MB/s eta 0:00:15��█████████████████▍       | 99.6MB 3.1MB/s eta 0:00:10��█████████████████████▉       | 101.3MB 962kB/s eta 0:00:31███████████████████████▉       | 101.6MB 2.0MB/s eta 0:00:15████████████████████████       | 102.5MB 1.8MB/s eta 0:00:16MB/s eta 0:00:09MB/s eta 0:00:12MB/s eta 0:00:11MB/s eta 0:00:09��██████████████      | 106.4MB 1.6MB/s eta 0:00:15�██▏     | 106.7MB 3.5MB/s eta 0:00:07��██▎     | 107.0MB 3.0MB/s eta 0:00:08████████▍     | 107.5MB 3.8MB/s eta 0:00:07    82% |██████████████████████████▌     | 108.0MB 1.3MB/s eta 0:00:18��███▌     | 108.1MB 3.1MB/s eta 0:00:08��███▉     | 109.7MB 3.6MB/s eta 0:00:06    86% |███████████████████████████▉    | 113.5MB 3.1MB/s eta 0:00:06    90% |████████████████████████████▉   | 117.9MB 2.4MB/s eta 0:00:06ta 0:00:07    91% |█████████████████████████████▍  | 119.9MB 3.4MB/s eta 0:00:04ta 0:00:04██▊  | 121.4MB 1.8MB/s eta 0:00:06��████████▉  | 121.7MB 966kB/s eta 0:00:10��███████████████████  | 122.2MB 3.0MB/s eta 0:00:03    94% |██████████████████████████████  | 122.9MB 1.7MB/s eta 0:00:05�██▏ | 123.1MB 1.9MB/s eta 0:00:04    94% |██████████████████████████████▎ | 123.4MB 4.4MB/s eta 0:00:02    95% |██████████████████████████████▌ | 124.6MB 2.3MB/s eta 0:00:03�██▋ | 124.9MB 639kB/s eta 0:00:09�█████████████▎| 127.7MB 2.9MB/s eta 0:00:01��████████████▋| 129.1MB 3.1MB/s eta 0:00:01��████████████▊| 129.4MB 4.6MB/s eta 0:00:01��████████████▉| 129.8MB 2.4MB/s eta 0:00:01��█████████████| 130.3MB 2.3MB/s eta 0:00:01\n",
      "\u001b[?25hRequirement already satisfied: requests in /home/nbuser/anaconda3_501/lib/python3.6/site-packages (from h2o) (2.18.4)\n",
      "Requirement already satisfied: tabulate in /home/nbuser/anaconda3_501/lib/python3.6/site-packages (from h2o) (0.8.2)\n",
      "Requirement already satisfied: future in /home/nbuser/anaconda3_501/lib/python3.6/site-packages (from h2o) (0.16.0)\n",
      "Requirement already satisfied: colorama>=0.3.8 in /home/nbuser/anaconda3_501/lib/python3.6/site-packages (from h2o) (0.3.9)\n",
      "Requirement already satisfied: chardet<3.1.0,>=3.0.2 in /home/nbuser/anaconda3_501/lib/python3.6/site-packages (from requests->h2o) (3.0.4)\n",
      "Requirement already satisfied: idna<2.7,>=2.5 in /home/nbuser/anaconda3_501/lib/python3.6/site-packages (from requests->h2o) (2.6)\n",
      "Requirement already satisfied: urllib3<1.23,>=1.21.1 in /home/nbuser/anaconda3_501/lib/python3.6/site-packages (from requests->h2o) (1.22)\n",
      "Requirement already satisfied: certifi>=2017.4.17 in /home/nbuser/anaconda3_501/lib/python3.6/site-packages (from requests->h2o) (2017.7.27.1)\n",
      "Building wheels for collected packages: h2o\n",
      "  Running setup.py bdist_wheel for h2o ... \u001b[?25ldone\n",
      "\u001b[?25h  Stored in directory: /home/nbuser/.cache/pip/wheels/79/62/a8/87e5ae300b48b21551cf191ff38ddec6acceb0c6b6b5d8c7fe\n",
      "Successfully built h2o\n",
      "Installing collected packages: h2o\n",
      "Successfully installed h2o-3.18.0.11\n"
     ]
    }
   ],
   "source": [
    "!pip install h2o"
   ]
  },
  {
   "cell_type": "code",
   "execution_count": null,
   "metadata": {},
   "outputs": [],
   "source": [
    "impo"
   ]
  }
 ],
 "metadata": {
  "kernelspec": {
   "display_name": "Python 3",
   "language": "python",
   "name": "python3"
  },
  "language_info": {
   "codemirror_mode": {
    "name": "ipython",
    "version": 3
   },
   "file_extension": ".py",
   "mimetype": "text/x-python",
   "name": "python",
   "nbconvert_exporter": "python",
   "pygments_lexer": "ipython3",
   "version": "3.6.6"
  }
 },
 "nbformat": 4,
 "nbformat_minor": 2
}
