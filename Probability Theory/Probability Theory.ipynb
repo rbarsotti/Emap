{
 "cells": [
  {
   "cell_type": "markdown",
   "metadata": {
    "collapsed": true
   },
   "source": [
    "# Probability Theory\n",
    "###### Rafael Barsotti - A1"
   ]
  },
  {
   "cell_type": "code",
   "execution_count": 6,
   "metadata": {},
   "outputs": [],
   "source": [
    "ID = 19\n",
    "N = 600\n",
    "M = 4500\n",
    "P = 130"
   ]
  },
  {
   "cell_type": "markdown",
   "metadata": {},
   "source": [
    "###### 1.\tQuantas figurinhas devem ser compradas até completar um álbum com N figurinhas, supondo que não haja trocas de figurinhas? Simule 1000 repetições deste processo, supondo que as figurinhas sejam compradas individualmente e que não haja figurinhas difíceis."
   ]
  },
  {
   "cell_type": "markdown",
   "metadata": {},
   "source": [
    "###### a)\tCalcule a média e o desvio padrão obtido nas 1000 realizações e transcreva-os para a planilha de resultados.  Obtenha também o valor exato da média e do desvio-padrão e compare com o resultado da simulação. "
   ]
  },
  {
   "cell_type": "code",
   "execution_count": 27,
   "metadata": {},
   "outputs": [],
   "source": [
    "from random import randint\n",
    "import random \n",
    "import numpy as np\n",
    "\n",
    "def simulation(N):\n",
    "    figurinhas = []\n",
    "    possible = range(1,N+1)\n",
    "    c = 0\n",
    "    while len(np.unique(figurinhas)) < N:\n",
    "        figurinha_comprada = random.choice(possible)\n",
    "        c += 1\n",
    "        if figurinha_comprada not in figurinhas:\n",
    "            figurinhas.append(figurinha_comprada)\n",
    "    return c\n",
    "\n",
    "def simulation_1000():\n",
    "    c_1000 = []\n",
    "    for i in range(1000):\n",
    "        c = simulation(N)\n",
    "        c_1000.append(c)\n",
    "    average = np.mean(c_1000)\n",
    "    std = np.std(c_1000)\n",
    "    print(\"A médias de 1000 simulações foi {} e o desvio padrão foi {}\".format(average,std))"
   ]
  },
  {
   "cell_type": "code",
   "execution_count": 28,
   "metadata": {},
   "outputs": [
    {
     "name": "stdout",
     "output_type": "stream",
     "text": [
      "A médias de 1000 simulações foi 4180.419 e o desvio padrão foi 780.7412230944386\n"
     ]
    }
   ],
   "source": [
    "simulation_1000()"
   ]
  },
  {
   "cell_type": "markdown",
   "metadata": {},
   "source": [
    "###### b)\tUsando a simulação, estime a probabilidade de que o número de figurinhas compradas seja maior que M.  "
   ]
  },
  {
   "cell_type": "code",
   "execution_count": 29,
   "metadata": {},
   "outputs": [],
   "source": [
    "def simulation_1000_M():\n",
    "    c_1000 = []\n",
    "    maior = 0\n",
    "    for i in range(1000):\n",
    "        c = simulation(N)\n",
    "        c_1000.append(c)\n",
    "    for i in c_1000:\n",
    "        if i >= M:\n",
    "            maior += 1\n",
    "    prob_maior = maior/len(c_1000)\n",
    "    print(\"Pela simulação, a probabilidade do número de figurinhas ser maior que {} é {}\".format(M,prob_maior))"
   ]
  },
  {
   "cell_type": "code",
   "execution_count": 30,
   "metadata": {},
   "outputs": [
    {
     "name": "stdout",
     "output_type": "stream",
     "text": [
      "Pela simulação, a probabilidade do número de figurinhas ser maior que 4500 é 0.291\n"
     ]
    }
   ],
   "source": [
    "simulation_1000_M()"
   ]
  },
  {
   "cell_type": "markdown",
   "metadata": {},
   "source": [
    "###### c)\tRepita a),  mas supondo agora que 20 das figurinhas sejam “difíceis”, impressas em quantidade 5 vezes menor que as demais."
   ]
  },
  {
   "cell_type": "code",
   "execution_count": 25,
   "metadata": {},
   "outputs": [],
   "source": [
    "def simulation_hard(N):\n",
    "    figurinhas = []\n",
    "    possible = range(1,N+1)\n",
    "    c = 0\n",
    "    while len(np.unique(figurinhas)) < N:\n",
    "        figurinha_comprada = random.choice(possible)\n",
    "        c += 1\n",
    "        if figurinha_comprada not in figurinhas and figurinha_comprada >= 21:\n",
    "            figurinhas.append(figurinha_comprada)\n",
    "        if figurinha_comprada not in figurinhas and figurinha_comprada <= 20:\n",
    "            dice = np.random.binomial(1,0.2)\n",
    "            if dice == 1:\n",
    "                figurinhas.append(figurinha_comprada)    \n",
    "    return c\n",
    "\n",
    "def simulation_1000_hard():\n",
    "    c_1000 = []\n",
    "    for i in range(100):\n",
    "        c = simulation_hard(N)\n",
    "        c_1000.append(c)\n",
    "    average = np.mean(c_1000)\n",
    "    std = np.std(c_1000)\n",
    "    print(\"A médias de 1000 simulações foi {} e o desvio padrão foi {}\".format(average,std))"
   ]
  },
  {
   "cell_type": "code",
   "execution_count": 26,
   "metadata": {},
   "outputs": [
    {
     "name": "stdout",
     "output_type": "stream",
     "text": [
      "A médias de 1000 simulações foi 10449.6 e o desvio padrão foi 3102.156988290567\n"
     ]
    }
   ],
   "source": [
    "simulation_1000_hard()"
   ]
  },
  {
   "cell_type": "markdown",
   "metadata": {},
   "source": [
    "###### d)\tRepita novamente a), mas supondo agora que você esteja completando dois álbuns (um para você e outro para seu irmão mais novo).  Admita, mais uma vez, que não haja figurinhas difíceis."
   ]
  },
  {
   "cell_type": "code",
   "execution_count": 19,
   "metadata": {},
   "outputs": [],
   "source": [
    "def simulation_brother(N):\n",
    "    figurinhas_1 = []\n",
    "    figurinhas_2 = []\n",
    "    possible = range(1,N+1)\n",
    "    c = 0\n",
    "    while len(np.unique(figurinhas_1)) < N and len(np.unique(figurinhas_2)) < N+1:\n",
    "        figurinha_comprada = random.choice(possible)\n",
    "        c += 1\n",
    "        if figurinha_comprada not in figurinhas_1:\n",
    "            figurinhas_1.append(figurinha_comprada)\n",
    "            figurinha_comprada = 0\n",
    "        \n",
    "        if figurinha_comprada not in figurinhas_2:\n",
    "            figurinhas_2.append(figurinha_comprada)\n",
    "    return c\n",
    "\n",
    "def simulation_1000_brother():\n",
    "    c_1000 = []\n",
    "    for i in range(100):\n",
    "        c = simulation_brother(N)\n",
    "        c_1000.append(c)\n",
    "    average = np.mean(c_1000)\n",
    "    std = np.std(c_1000)\n",
    "    print(\"A médias de 1000 simulações com dois álbuns foi {} e o desvio padrão foi {}\".format(average,std))"
   ]
  },
  {
   "cell_type": "code",
   "execution_count": 21,
   "metadata": {},
   "outputs": [
    {
     "name": "stdout",
     "output_type": "stream",
     "text": [
      "A médias de 1000 simulações com dois álbuns foi 4296.44 e o desvio padrão foi 938.0837310176529\n"
     ]
    }
   ],
   "source": [
    "simulation_1000_brother()"
   ]
  },
  {
   "cell_type": "markdown",
   "metadata": {},
   "source": [
    "###### 2.\tConsidere o problema do avião (exercício 59 do capítulo 1 de BH), mas com P passageiros.  Simule 10000 realizações do processo e estime  o número médio de pessoas que se sentam fora de seus lugares"
   ]
  },
  {
   "cell_type": "code",
   "execution_count": 19,
   "metadata": {},
   "outputs": [],
   "source": [
    "def passegers_simulation(P):\n",
    "    seats_available = list(range(1,P+1))\n",
    "    p1 = random.choice(seats_available)\n",
    "    seats_available.remove(p1)\n",
    "    c = 0\n",
    "    if p1 == 1:\n",
    "        c += 1\n",
    "    for i in range(2,P+1):\n",
    "        p = i\n",
    "        u = random.choice(seats_available)\n",
    "        seats_available.remove(u)\n",
    "        if p != u:\n",
    "            c += 1\n",
    "    return c\n",
    "\n",
    "def passengers_1000_simulation():\n",
    "    c_1000 = []\n",
    "    for i in range(1000):\n",
    "        c = passegers_simulation(P)\n",
    "        c_1000.append(c)\n",
    "    average = np.mean(c_1000)\n",
    "    std = np.std(c_1000)\n",
    "    print(\"A médias de 1000 simulações dos passageiros e {} e o desvio padrão foi {}\".format(average,std))"
   ]
  },
  {
   "cell_type": "code",
   "execution_count": 21,
   "metadata": {},
   "outputs": [
    {
     "name": "stdout",
     "output_type": "stream",
     "text": [
      "A médias de 1000 simulações dos passageiros e 128.0 e o desvio padrão foi 1.0237187113655781\n"
     ]
    }
   ],
   "source": [
    "passengers_1000_simulation()"
   ]
  },
  {
   "cell_type": "markdown",
   "metadata": {},
   "source": [
    "###### Theoretical Average and Standard Deviation"
   ]
  },
  {
   "cell_type": "code",
   "execution_count": 32,
   "metadata": {},
   "outputs": [],
   "source": [
    "import math as m\n",
    "\n",
    "def theoretical_average():\n",
    "    s = 0\n",
    "    for i in range(1,601):\n",
    "        s += 1/i\n",
    "    ex = 600 * s\n",
    "    print(\"A media teorica e {}\".format(ex))\n",
    "\n",
    "\n",
    "\n",
    "def theoretical_std():\n",
    "    s = 0\n",
    "    for i in range(1,601):\n",
    "        s += 1/(i**2)\n",
    "    var = 600**2 * s\n",
    "    std = m.sqrt(var)\n",
    "    print(\"O desvio padrao teoric e {}\".format(std))"
   ]
  },
  {
   "cell_type": "code",
   "execution_count": 31,
   "metadata": {},
   "outputs": [
    {
     "name": "stdout",
     "output_type": "stream",
     "text": [
      "A media teorica e 4184.987053181759\n",
      "O desvio padrao teoric e 769.1402757544192\n"
     ]
    }
   ],
   "source": [
    "theoretical_average()\n",
    "theoretical_std()"
   ]
  }
 ],
 "metadata": {
  "kernelspec": {
   "display_name": "Python 3",
   "language": "python",
   "name": "python3"
  },
  "language_info": {
   "codemirror_mode": {
    "name": "ipython",
    "version": 3
   },
   "file_extension": ".py",
   "mimetype": "text/x-python",
   "name": "python",
   "nbconvert_exporter": "python",
   "pygments_lexer": "ipython3",
   "version": "3.6.6"
  }
 },
 "nbformat": 4,
 "nbformat_minor": 2
}
