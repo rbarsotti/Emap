{
 "cells": [
  {
   "cell_type": "markdown",
   "metadata": {},
   "source": [
    "# Numerical Analysis - 7\n",
    "###### Rafael Barsotti"
   ]
  },
  {
   "cell_type": "markdown",
   "metadata": {
    "collapsed": true
   },
   "source": [
    "#### 1) Implemente o algoritmo dado em sala para obter uma sequência de 1000 números pseudoaleatórios no interval [0, 1]. Plote o resultado obtido e compare com o gráfico obtido pra 1000 pontos uniformes gerados pelo python."
   ]
  },
  {
   "cell_type": "code",
   "execution_count": 136,
   "metadata": {
    "collapsed": true
   },
   "outputs": [],
   "source": [
    "import numpy as np\n",
    "import matplotlib.pyplot as plt\n",
    "import seaborn as sns\n",
    "import warnings\n",
    "warnings.filterwarnings('ignore')\n",
    "\n",
    "low = 0\n",
    "high = 1\n",
    "size = 1000\n",
    "seed = 3\n",
    "\n",
    "#Função Random do Python\n",
    "def rand_py():\n",
    "    x = np.random.uniform(low,high,size)\n",
    "    sns.distplot(x, rug=True, rug_kws={\"color\": \"b\"}, kde_kws={\"color\": \"k\", \"lw\": 3, \"label\": \"Python Random\"},\n",
    "                 hist_kws={\"histtype\": \"step\", \"linewidth\": 3,\n",
    "                 \"alpha\": 1, \"color\": \"b\"})\n",
    "    plt.show()\n",
    "    \n",
    "#Função Random da Aula\n",
    "def rand_aula():\n",
    "    li = seed\n",
    "    x = []\n",
    "    a  = 7**5\n",
    "    b = (2**31)-1\n",
    "    for i in range(size):\n",
    "        li = a*li%b\n",
    "        x.append(li/b)\n",
    "    sns.distplot(x, rug=True, rug_kws={\"color\": \"g\"}, kde_kws={\"color\": \"k\", \"lw\": 3, \"label\": \"Aula Random\"},\n",
    "                 hist_kws={\"histtype\": \"step\", \"linewidth\": 3,\n",
    "                 \"alpha\": 1, \"color\": \"g\"})\n",
    "    plt.show()"
   ]
  },
  {
   "cell_type": "code",
   "execution_count": 138,
   "metadata": {},
   "outputs": [
    {
     "data": {
      "image/png": "[encoded data removed]",
      "text/plain": [
       "<matplotlib.figure.Figure at 0x7f3be97c5eb8>"
      ]
     },
     "metadata": {},
     "output_type": "display_data"
    },
    {
     "data": {
      "image/png": "[encoded data removed]",
      "text/plain": [
       "<matplotlib.figure.Figure at 0x7f3be97bd630>"
      ]
     },
     "metadata": {},
     "output_type": "display_data"
    }
   ],
   "source": [
    "rand_py()\n",
    "rand_aula()"
   ]
  },
  {
   "cell_type": "markdown",
   "metadata": {},
   "source": [
    "#### 2a) Implementando o método da quadratura de Gauss com três nós, obtenha uma aproximação para $\\int_{0}^{2}e^{x^2}$ .Estime o erro da aproximação e compare com o erro obtido usando a integral do polinômio interpolador de grau 2.\n"
   ]
  },
  {
   "cell_type": "code",
   "execution_count": 27,
   "metadata": {},
   "outputs": [
    {
     "name": "stdout",
     "output_type": "stream",
     "text": [
      "O Erro estimado da Quadratura de Gauss foi 0.00014770517018225515.\n"
     ]
    }
   ],
   "source": [
    "import math as m\n",
    "import scipy.integrate as integrate\n",
    "import scipy.special as special\n",
    "from scipy.special import erf\n",
    "\n",
    "def f(x):\n",
    "    return m.e**(x**2)\n",
    "\n",
    "def Quadratura_Gauss_3():\n",
    "    g = 0\n",
    "    x = [0.5+1/12*m.sqrt(10/3),0.5-1/12*m.sqrt(10/3),0.5+1/12*m.sqrt(10/3),0.5-1/12*m.sqrt(10/3)]\n",
    "    y = [(1-m.sqrt(1/7*(3-4*m.sqrt(0.3)))),(1-m.sqrt(1/7*(3+4*m.sqrt(0.3)))),(1+m.sqrt(1/7*(3-4*m.sqrt(0.3)))),\n",
    "         (1+m.sqrt(1/7*(3+4*m.sqrt(0.3))))]\n",
    "    \n",
    "    for i in range(4):\n",
    "        g += m.e**-(y[i]**2) * x[i]\n",
    "    return(g)\n",
    "\n",
    "# ???\n",
    "def Poli2():\n",
    "    p2 = erf(2)*m.sqrt(m.pi)/2\n",
    "    return(p2)\n",
    "\n",
    "def Error_Gauss():\n",
    "    a = Poli2()\n",
    "    b = Quadratura_Gauss_3()\n",
    "    e = abs(a-b)\n",
    "    return e\n",
    "\n",
    "e = Error_Gauss()\n",
    "\n",
    "print('O Erro estimado da Quadratura de Gauss foi {}.'.format(e))"
   ]
  },
  {
   "cell_type": "markdown",
   "metadata": {},
   "source": [
    "#### 2b) Implementando o MCMC obtenha uma aproximação para a integral do item anterior. Qual é o valor de $n$ necessário para obter o mesmo erro obtido pela regra de Simpson? Qual é o valorde $n$ necessário para obter o mesmo erro obtido pelo método de Gauss?"
   ]
  },
  {
   "cell_type": "code",
   "execution_count": 40,
   "metadata": {},
   "outputs": [
    {
     "name": "stdout",
     "output_type": "stream",
     "text": [
      "N de MCMC para error menor ou igual ao Gauss 925.\n"
     ]
    }
   ],
   "source": [
    "def MCMC_N_to_Gauss():\n",
    "    int_real = Poli2()\n",
    "    n = 1\n",
    "    e_MCMC = 100\n",
    "    while  > e:\n",
    "        x = np.linspace(0, 2, n)\n",
    "        y = f(x)\n",
    "        a = y * 2/n \n",
    "        int_MCMC = sum(a)\n",
    "        e_MCMC = abs(int_real - int_MCMC)\n",
    "        n += 1\n",
    "print('N de MCMC para error menor ou igual ao Gauss {}.'.format(e_MC))\n",
    "\n",
    "MCMC_N_to_Gauss()"
   ]
  },
  {
   "cell_type": "code",
   "execution_count": 39,
   "metadata": {},
   "outputs": [
    {
     "name": "stdout",
     "output_type": "stream",
     "text": [
      "N de MCMC para error menor ou igual ao Simpson 5.\n"
     ]
    }
   ],
   "source": [
    "def MCMC_N_to_Simpson():\n",
    "    n = 1\n",
    "    e_MCMC = 100\n",
    "    while erroMC2 > 0.13333333:\n",
    "        x = np.linspace(0, 2, n)\n",
    "        y = f(x)\n",
    "        a = y * 2/n \n",
    "        int_MCMC = sum(a)\n",
    "        e_MCMC = abs(int_real - int_MCMC)\n",
    "        n += 1\n",
    "print('N de MCMC para error menor ou igual ao Gauss {}.'.format(e_MC))"
   ]
  }
 ],
 "metadata": {
  "kernelspec": {
   "display_name": "Python 3.6",
   "language": "python",
   "name": "python36"
  },
  "language_info": {
   "codemirror_mode": {
    "name": "ipython",
    "version": 3
   },
   "file_extension": ".py",
   "mimetype": "text/x-python",
   "name": "python",
   "nbconvert_exporter": "python",
   "pygments_lexer": "ipython3",
   "version": "3.6.2"
  }
 },
 "nbformat": 4,
 "nbformat_minor": 2
}
