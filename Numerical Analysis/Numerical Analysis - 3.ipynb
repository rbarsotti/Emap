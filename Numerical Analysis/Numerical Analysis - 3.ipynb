{
 "cells": [
  {
   "cell_type": "markdown",
   "metadata": {},
   "source": [
    "#### 1) Seja $f(x) = cos(x)$ e $p_n(x)$ o polinômio interpolador de grau menor igual a $n$ utilizando $n + 1$ pontos $(x_i)$ igualmente espaçados no interval $[0, 1]$. Diga o quanto acurada é esta aproximação (em função de $n$), em particular escreva para $n = 7$. Diga para quais valores aproximados de $n$ o erro fica menor que $10^{−9}$."
   ]
  },
  {
   "cell_type": "markdown",
   "metadata": {
    "collapsed": true
   },
   "source": [
    "Usando o teorema 2 (Interpolation errros II) do livro:\n",
    "\n",
    "$|f(x) - p(x)| \\leq \\frac{1}{4(n+1)}Mh^{n+1}$\n",
    "\n",
    "$n = 7$\n",
    "\n",
    "$h = \\frac{1 - 0}{7}$\n",
    "\n",
    "$|f^{(8)}(x)| = cos(x) \\leq 1$\n",
    "\n",
    "$M=1$\n",
    "\n",
    "$|cos(x) - p(x)| \\leq 5.4210 \\;.\\; 10^{-12}$\n",
    "\n",
    "Para $n \\approx 4$ o erro ficar menor do que $10^{-9}$\n",
    "\n",
    "\n"
   ]
  },
  {
   "cell_type": "code",
   "execution_count": 4,
   "metadata": {},
   "outputs": [
    {
     "name": "stdout",
     "output_type": "stream",
     "text": [
      "5.420828923669696e-09\n",
      "4.8828125e-05\n"
     ]
    }
   ],
   "source": [
    "print(1/32*(1/7)**8)\n",
    "print(1/20*(1/4)**5)"
   ]
  },
  {
   "cell_type": "code",
   "execution_count": 8,
   "metadata": {},
   "outputs": [
    {
     "name": "stdout",
     "output_type": "stream",
     "text": [
      "           7            6           5          4             3       2\n",
      "9.456e-05 x - 0.001541 x + 0.00013 x + 0.0416 x + 1.751e-05 x - 0.5 x + 1.362e-07 x + 1\n"
     ]
    }
   ],
   "source": [
    "import numpy as np\n",
    "import math as m\n",
    "from scipy.interpolate import lagrange\n",
    "\n",
    "def xi(n):\n",
    "    y = 1/n\n",
    "    x = [0]\n",
    "    c = 0\n",
    "    for i in range(1,n):\n",
    "        c = c + y\n",
    "        x.append(c)\n",
    "    x.append(1)\n",
    "    return x\n",
    "\n",
    "def yi(x):\n",
    "    y = []\n",
    "    for i in x:\n",
    "        z = m.cos(i)\n",
    "        y.append(z)\n",
    "    return y\n",
    "\n",
    "x = xi(7)\n",
    "y = yi(x)\n",
    "\n",
    "coef = lagrange(x,y)\n",
    "print(coef)"
   ]
  },
  {
   "cell_type": "markdown",
   "metadata": {},
   "source": [
    "#### 2) Derive as seguintes fórmulas abaixo escrevendo os termos dominantes dos erros em ambos os casos."
   ]
  },
  {
   "cell_type": "markdown",
   "metadata": {},
   "source": [
    "###### a) $f′(x) \\approx \\frac{1}{4h}[f(x + 2h) − f(x − 2h)]$"
   ]
  },
  {
   "cell_type": "markdown",
   "metadata": {
    "collapsed": true
   },
   "source": [
    "$f'(x) \\approx \\frac{1}{h}f(x+h)-f(x)$\n",
    "\n",
    "$f(x+2h) = 2f(X)+2hf'(x)+\\frac{1}{4}h^2f''\\xi$\n",
    "\n",
    "$f′(x) \\approx \\frac{1}{4h}[f(x + 2h) − f(x − 2h)]$\n",
    "\n",
    "Erro dominante: $\\frac{1}{4h}$"
   ]
  },
  {
   "cell_type": "markdown",
   "metadata": {},
   "source": [
    "###### b) $f′′(x) \\approx  \\frac{1}{4h^2} [f(x + 2h) + f(x − 2h) − 2f(x)]$"
   ]
  },
  {
   "cell_type": "markdown",
   "metadata": {
    "collapsed": true
   },
   "source": [
    "$f(x+2h)+f(x-2h) = 4f(x) + h^4f^{``}(x)+4[\\frac{1}{8!}f^{(8)}(x)... ] $\n",
    "\n",
    "$f''(x) = \\frac{1}{h^2}[f(x+2h) - 4f(x)  +f(x-2h)] + E$\n",
    "\n",
    "$f′′(x) \\approx  \\frac{1}{4h^2} [f(x + 2h) + f(x − 2h) − 2f(x)]$\n",
    "\n",
    "Erro Dominante: $-\\frac{1}{24}h^4f^{(8)}(\\xi)$\n",
    "\n"
   ]
  }
 ],
 "metadata": {
  "kernelspec": {
   "display_name": "Python 3.6",
   "language": "python",
   "name": "python36"
  },
  "language_info": {
   "codemirror_mode": {
    "name": "ipython",
    "version": 3
   },
   "file_extension": ".py",
   "mimetype": "text/x-python",
   "name": "python",
   "nbconvert_exporter": "python",
   "pygments_lexer": "ipython3",
   "version": "3.6.0"
  }
 },
 "nbformat": 4,
 "nbformat_minor": 2
}
