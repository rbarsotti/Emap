{
 "cells": [
  {
   "cell_type": "markdown",
   "metadata": {
    "collapsed": true
   },
   "source": [
    "# Numerical Analysis - 8\n",
    "###### Rafael Barsotti"
   ]
  },
  {
   "cell_type": "markdown",
   "metadata": {},
   "source": [
    "#### 1) Implemente o método de Euler para resolver o problema de valor inicial (PVI) $x′ = x^{1/3}$, $x(0) = 0$. O que acontece ? (Observe que esse problema apresenta mais de uma solução analítica.)"
   ]
  },
  {
   "cell_type": "code",
   "execution_count": 23,
   "metadata": {
    "collapsed": true
   },
   "outputs": [],
   "source": [
    "import numpy as np\n",
    "import pandas as pd\n",
    "import matplotlib.pyplot as plt\n",
    "import seaborn as sns\n",
    "import math as m"
   ]
  },
  {
   "cell_type": "code",
   "execution_count": 11,
   "metadata": {
    "collapsed": true
   },
   "outputs": [],
   "source": [
    "# Questão 1 - Método de Euler\n",
    "\n",
    "#Função f(x,t)\n",
    "def f1(x):\n",
    "    y = x**(1/3)\n",
    "    return y\n",
    "\n",
    "# Método de Euler\n",
    "def euler_method(a,b,f1,x0,t0,n):\n",
    "    D = np.array([[0,x0]])\n",
    "    h = (b-a)/n\n",
    "    t = t0\n",
    "    x = x0\n",
    "    for i in range(n):\n",
    "        x = x + h*f1(x)\n",
    "        t = t + h\n",
    "        D = np.append(D,[[t,x]], axis = 0)\n",
    "    return D\n",
    "\n",
    "# Plot EDO \n",
    "def edo_plot(D):\n",
    "    x = D[:,0]\n",
    "    y = D[:,1]\n",
    "    plt.plot(x,y, 'ro', color = 'b')\n",
    "    plt.show()\n",
    "    \n",
    "def euler_plot(D):\n",
    "    x = D[:,0]\n",
    "    y = D[:,1]\n",
    "    plt.plot(x,y, color = 'b')\n",
    "    plt.show()"
   ]
  },
  {
   "cell_type": "code",
   "execution_count": 15,
   "metadata": {},
   "outputs": [
    {
     "data": {
      "image/png": "[encoded data removed]",
      "text/plain": [
       "<matplotlib.figure.Figure at 0x7f0cad2bc1d0>"
      ]
     },
     "metadata": {},
     "output_type": "display_data"
    },
    {
     "data": {
      "image/png": "[encoded data removed]",
      "text/plain": [
       "<matplotlib.figure.Figure at 0x7f0cad2bc160>"
      ]
     },
     "metadata": {},
     "output_type": "display_data"
    }
   ],
   "source": [
    "a = euler_method(0,100,f1,0,0,30)\n",
    "edo_plot(a)\n",
    "euler_plot(a)"
   ]
  },
  {
   "cell_type": "markdown",
   "metadata": {},
   "source": [
    "#### 2) Considere o método de Heun, também conhecido como método dos trapézios para EDO’s ou método de Euler melhorado, dado por:\n",
    "\n",
    "#### $\\overline{x}(t + h) = x(t) + hf(t, x(t))$\n",
    "\n",
    "#### $x(t + h) = x(t) + \\frac{h}{2}[f(t, x(t)) + f(t + h, \\overline{x}(t + h))]$"
   ]
  },
  {
   "cell_type": "markdown",
   "metadata": {},
   "source": [
    "#### (a) Utilize o método de Heun (na mão!) para obter uma solução para o PVI $x′ = −x + t + \\frac{1}{2}$, $x(0) = 1$ no intervalo $[0, 1]$ com $h = 0.1$. Interpolando os pontos por um spline de ordem 1 obtenha a chamada aproximação poligonal de Euler."
   ]
  },
  {
   "cell_type": "code",
   "execution_count": 8,
   "metadata": {
    "collapsed": true
   },
   "outputs": [],
   "source": [
    "#Questão 2a - Método de Heun\n",
    "\n",
    "#Função f(x,t)\n",
    "def f2(x,t):\n",
    "    y = -x + t + 1/2\n",
    "    return y\n",
    "\n",
    "# Método de Heun\n",
    "def heun_method(f2,n):\n",
    "    t = 0\n",
    "    x = 1\n",
    "    h = 0.1\n",
    "    D = np.array([[t,x]])\n",
    "    for i in range(n):\n",
    "        xbarra = x + h*f2(x,t)\n",
    "        x = x + h/2*(f2(x,t)+f2(xbarra,t)\n",
    "        t = t + h\n",
    "        print(t,xbarra,x)"
   ]
  },
  {
   "cell_type": "code",
   "execution_count": 10,
   "metadata": {},
   "outputs": [
    {
     "name": "stdout",
     "output_type": "stream",
     "text": [
      "0 0.95 0.9525\n",
      "1 0.91725 0.9190125\n",
      "2 0.89711125 0.8982063125\n",
      "3 0.8883856812500001 0.8888767128125\n",
      "4 0.88998904153125 0.8899334250953125\n",
      "5 0.9009400825857812 0.9003897497112578\n",
      "6 0.920350774740132 0.9193527234886884\n",
      "7 0.9474174511398195 0.946014214757263\n",
      "8 0.9814127932815366 0.979642864355323\n",
      "9 1.0216785779197908 1.0195767922415673\n"
     ]
    }
   ],
   "source": [
    "heun_method(f2,10)"
   ]
  },
  {
   "cell_type": "markdown",
   "metadata": {},
   "source": [
    "#### (b) Implemente o método de Heun para obter uma solução para o PVI $x′ = −100x^2$ , $x(0) = 1$ com $h = 0.1$. Agora substitua $\\overline{x}(t + h)$ por $x(t + h)$. Explique o que acontece."
   ]
  },
  {
   "cell_type": "code",
   "execution_count": 50,
   "metadata": {
    "collapsed": true
   },
   "outputs": [],
   "source": [
    "#Questão 2b - Método de Heun\n",
    "\n",
    "#Função f(x,t)\n",
    "def f2(x):\n",
    "    y = -100*(x**2)\n",
    "    return y\n",
    "\n",
    "# Método de Heun\n",
    "def heun_method(f2,n):\n",
    "    t = 0\n",
    "    x = 1\n",
    "    h = 0.1\n",
    "    D = np.array([[t,x]])\n",
    "    for i in range(n):\n",
    "        xbarra = x + h*f2(x)\n",
    "        x = x + h/2*(f2(x)+f2(xbarra))\n",
    "        t = t + h\n",
    "        D = np.append(D,[[t,x]], axis = 0)\n",
    "    return D"
   ]
  },
  {
   "cell_type": "markdown",
   "metadata": {},
   "source": [
    "#### 3) Mostre que o método de Heun é um método de Runge-Kutta. Qual é a ordem?"
   ]
  },
  {
   "cell_type": "markdown",
   "metadata": {},
   "source": [
    "#### 4) Considere o PVI $x′ = (tx)^3 −(\\frac{x}{t})^2$, $x(1) = 1$. Utilize (na mão) os métodos de Taylor e Runge-Kutta de ordem 2 para obter aproximações para $x(1 + h)$ com $h = 0.1$. Compare as respostas."
   ]
  },
  {
   "cell_type": "markdown",
   "metadata": {},
   "source": [
    "#### 5a) Resolva o PVI $x′ = 10x − 5t^2 + 11t − 1$, $x(0) = 0$. Com $h = 2^{−8}$, obtenha uma solução computacional do PVI no intervalo $[0, 3]$ utilizando o RK4 descrito em sala. Faça um gráfico com a solução analítica e a aproximação poligonal obtida utilizando os pontos obtidos pelo RK4."
   ]
  },
  {
   "cell_type": "code",
   "execution_count": 54,
   "metadata": {
    "collapsed": true
   },
   "outputs": [],
   "source": [
    "#Questão 5a - Método de RK4\n",
    "\n",
    "# Função f(x,t)\n",
    "def f3(x,t):\n",
    "    y = 10*x - 5*(t**2) + 11*t - 1\n",
    "    return y\n",
    "\n",
    "def f3_analytic(x,n,h):\n",
    "    t = 0\n",
    "    c1 = x\n",
    "    D = np.array([[t,x]])\n",
    "    for i in range(n):\n",
    "        t = t + h\n",
    "        x = c1*m.e**(10*t) + (t**2)/2 - t\n",
    "        D = np.append(D,[[t,x]], axis = 0)\n",
    "    return D\n",
    "\n",
    "# Método RK4\n",
    "def rk4_method(f3,x,t,h,n):\n",
    "    D = np.array([[t,x]])\n",
    "    for i in range(n):\n",
    "        K1 = h*f3(x,t)\n",
    "        K2 = h*f3(x+(1/2*K1),t+(h*1/2))\n",
    "        K3 = h*f3(x+(1/2*K2),t+(h*1/2))\n",
    "        K4 = h*f3(x+K3,t+h)\n",
    "        x = x + 1/6*(K1 + 2*K2 + 2*K3 + K4)\n",
    "        t = t + h\n",
    "        D = np.append(D,[[t,x]], axis = 0)\n",
    "    return D\n",
    "\n",
    "def erro_global(d1,d2):\n",
    "    e = d2[:,1] - d1[:,1]\n",
    "    error = np.amax(e)\n",
    "    print(\"O erro global é {}\".format(error))"
   ]
  },
  {
   "cell_type": "code",
   "execution_count": 52,
   "metadata": {},
   "outputs": [
    {
     "data": {
      "image/png": "[encoded data removed]",
      "text/plain": [
       "<matplotlib.figure.Figure at 0x7f0cad0228d0>"
      ]
     },
     "metadata": {},
     "output_type": "display_data"
    }
   ],
   "source": [
    "# Solucao Analitica com c = 0\n",
    "D = f3_analytic(0,768,2**-8)\n",
    "euler_plot(D)"
   ]
  },
  {
   "cell_type": "code",
   "execution_count": 21,
   "metadata": {},
   "outputs": [
    {
     "data": {
      "image/png": "[encoded data removed]",
      "text/plain": [
       "<matplotlib.figure.Figure at 0x7f0cb25879b0>"
      ]
     },
     "metadata": {},
     "output_type": "display_data"
    },
    {
     "data": {
      "image/png": "[encoded data removed]",
      "text/plain": [
       "<matplotlib.figure.Figure at 0x7f0cad2b0588>"
      ]
     },
     "metadata": {},
     "output_type": "display_data"
    }
   ],
   "source": [
    "# Plot RK4\n",
    "h = 2**-8\n",
    "d = rk4_method(f3,0,0,h,768)\n",
    "edo_plot(d)\n",
    "euler_plot(d)"
   ]
  },
  {
   "cell_type": "markdown",
   "metadata": {},
   "source": [
    "#### 5b) Refaça o item anterior substituindo a condição inicial por $x(0) = \\epsilon$, com $\\epsilon = 0.0001$. Obtenhao erro global, isto é, a máxima distância entre a solução analítica e a aproximação numérica.\n"
   ]
  },
  {
   "cell_type": "code",
   "execution_count": 56,
   "metadata": {},
   "outputs": [
    {
     "data": {
      "image/png": "[encoded data removed]",
      "text/plain": [
       "<matplotlib.figure.Figure at 0x7f0cacfcb828>"
      ]
     },
     "metadata": {},
     "output_type": "display_data"
    }
   ],
   "source": [
    "# Plot Solucao Analitica c1 = 0.0001\n",
    "D = f3_analytic(0.0001,768,2**-8)\n",
    "euler_plot(D)"
   ]
  },
  {
   "cell_type": "code",
   "execution_count": 22,
   "metadata": {},
   "outputs": [
    {
     "data": {
      "image/png": "[encoded data removed]",
      "text/plain": [
       "<matplotlib.figure.Figure at 0x7f0cad1e2400>"
      ]
     },
     "metadata": {},
     "output_type": "display_data"
    },
    {
     "data": {
      "image/png": "[encoded data removed]",
      "text/plain": [
       "<matplotlib.figure.Figure at 0x7f0cad1e2a58>"
      ]
     },
     "metadata": {},
     "output_type": "display_data"
    }
   ],
   "source": [
    "# Plot RK4\n",
    "h = 2**-8\n",
    "e = 0.0001\n",
    "d = rk4_method(f3,e,0,h,768)\n",
    "edo_plot(d)\n",
    "euler_plot(d)"
   ]
  },
  {
   "cell_type": "code",
   "execution_count": 55,
   "metadata": {},
   "outputs": [
    {
     "name": "stdout",
     "output_type": "stream",
     "text": [
      "O erro global é -0.0001\n"
     ]
    }
   ],
   "source": [
    "erro_global(d,D)"
   ]
  },
  {
   "cell_type": "markdown",
   "metadata": {},
   "source": [
    "#### 6) Determine se as soluções da EDO $x′ = t(x^3−6x^2+15x)$ convergem ou divergem uma das outras."
   ]
  }
 ],
 "metadata": {
  "kernelspec": {
   "display_name": "Python 3.6",
   "language": "python",
   "name": "python36"
  },
  "language_info": {
   "codemirror_mode": {
    "name": "ipython",
    "version": 3
   },
   "file_extension": ".py",
   "mimetype": "text/x-python",
   "name": "python",
   "nbconvert_exporter": "python",
   "pygments_lexer": "ipython3",
   "version": "3.6.2"
  }
 },
 "nbformat": 4,
 "nbformat_minor": 2
}
