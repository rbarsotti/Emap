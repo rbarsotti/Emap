{
 "cells": [
  {
   "cell_type": "markdown",
   "metadata": {
    "collapsed": true
   },
   "source": [
    "# Numerical Analysis\n",
    "###### Rafael Barsotti"
   ]
  },
  {
   "cell_type": "markdown",
   "metadata": {},
   "source": [
    "#### 1a) Implemente os métodos explícito e implícito dados em sala para resolver a equação do calor da página 585 com diferentes valores de h e k. Em particular teste, h = 0.1 = k, h = 0.01 = k e (h = 0.1,k = 0.001). Compare os resultados obtidos."
   ]
  },
  {
   "cell_type": "code",
   "execution_count": 1,
   "metadata": {
    "collapsed": true
   },
   "outputs": [],
   "source": [
    "import numpy as np\n",
    "import pandas as pd\n",
    "import matplotlib.pyplot as plt\n",
    "import seaborn as sns\n",
    "import math as m"
   ]
  },
  {
   "cell_type": "code",
   "execution_count": 2,
   "metadata": {},
   "outputs": [
    {
     "data": {
      "image/png": "[encoded data removed]",
      "text/plain": [
       "<matplotlib.figure.Figure at 0x7f643cec1b00>"
      ]
     },
     "metadata": {},
     "output_type": "display_data"
    }
   ],
   "source": [
    "# Diferenças Finitas - Equação do Calor\n",
    "\n",
    "def heat_equation(h,k,n,m):\n",
    "    u0 = np.zeros((1,n))\n",
    "    v0 = np.zeros((1,n))\n",
    "    for i in range(n-1):\n",
    "        u[0,i] = m.sin(m.pi * i * h)\n",
    "    for j in range(m):\n",
    "        for i in range(n-1):\n",
    "            v0[0,i] = 1/2 * (u[0,i-1] + u[0,i+1]) \n",
    "        t = j * k\n",
    "        for i in range(n):\n",
    "            u[0,i] = m.e**(- m.pi**2 * 7 ) * sin(m.pi * i * h) - v0[0,i]\n",
    "        for i in range(n-1):\n",
    "            u0[0,i] = v0[0,i]\n",
    "            \n",
    "def plot_heat():\n",
    "    lenu = lenv = n,m \n",
    "    colorinterpolation = 50\n",
    "    colourMap = plt.cm.jet\n",
    "    u, v = np.meshgrid(np.arange(0, lenu), np.arange(0, lenv))\n",
    "    T[(lenv-1):, :] = Ttop\n",
    "    T[:1, :] = Tbottom\n",
    "    T[:, (m):] = Tright\n",
    "    T[:, :1] = Tleft\n",
    "    for iteration in range(n):\n",
    "        for i in range(1, m):\n",
    "            for j in range(1, lenv-1, delta):\n",
    "                T[i, j] = 0.25 * (T[i+1][j] + T[i-1][j] + T[i][j+1] + T[i][j-1])\n",
    "    plt.title(\"Heat Equation\")\n",
    "    plt.contourf(u0, v0, T, colorinterpolation, cmap=colourMap)\n",
    "    plt.colorbar()\n",
    "    plt.show()"
   ]
  },
  {
   "cell_type": "markdown",
   "metadata": {},
   "source": [
    "#### 4) Considere a equação do transporte definida na página 601 do livro texto do Cheney e Kincaid. Suponha que c(x, t) = 1 para todo (x, t) com x, t ∈ [0 3]. Implemente o método das diferenças finitas proposto na mesma página com diferentes valores de h e k (h = 0.1, h = 0.01 etc.) para obter soluções para u e verificar que de fato o método é instável."
   ]
  },
  {
   "cell_type": "code",
   "execution_count": 39,
   "metadata": {
    "collapsed": true
   },
   "outputs": [],
   "source": [
    "# Diferenças Finitas - Equação do Transporte\n",
    "# Utilizando Mesmas Condições de Contorno da Equação do Calor\n",
    "\n",
    "def advection_equation(h,k,n,m):\n",
    "    u0 = np.zeros((1,n))\n",
    "    v0 = np.zeros((1,n))\n",
    "    sigma = (k/h)\n",
    "    for i in range(n-1):\n",
    "        u[0,i] = m.sin(m.pi * i * h)\n",
    "    for j in range(m):\n",
    "        for i in range(1,n-1):\n",
    "            v0[0,i] = u[0,i] - (1/2 * sigma * (u[0,i+1] + u[0,i-1])) \n",
    "        t = j * k\n",
    "        for i in range(n):\n",
    "            u[0,i] = m.e**(- m.pi**2 * 7 ) * sin(m.pi * i * h) - v0[0,i]\n",
    "        for i in range(1,n-1):\n",
    "            u0[0,i] = v0[0,i]"
   ]
  },
  {
   "cell_type": "markdown",
   "metadata": {},
   "source": [
    "#### 5) Utilize o método de Runge-Kutta de ordem 2 para resolver os dois sistemas de EDO’s dados no exercício 1 da página 482 do livro texto do Cheney e Kincaid."
   ]
  },
  {
   "cell_type": "code",
   "execution_count": null,
   "metadata": {
    "collapsed": true
   },
   "outputs": [],
   "source": [
    "#Questão 5a - Método de RK4\n",
    "from cmath import sqrt\n",
    "\n",
    "# Funções f(x,t)\n",
    "def f1(x1,x2,t):\n",
    "    v = []\n",
    "    x1_linha = x2\n",
    "    x2_linha = 2 * sqrt(m.e**(2*t) - x1**2)\n",
    "    v.append(x1_linha)\n",
    "    v.append(x2_linha)\n",
    "    return v\n",
    "\n",
    "def f2(x1,x2,x3,x4,t):\n",
    "    v = []\n",
    "    x1_linha = x2\n",
    "    x2_linha = x1**2 - x3 + m.e**t\n",
    "    x3_linha = x4\n",
    "    x4_linha = x1 _ x3**2 - m.e**t\n",
    "    v.append(x1_linha)\n",
    "    v.append(x2_linha)\n",
    "    v.append(x3_linha)\n",
    "    v.append(x4_linha)\n",
    "    return v\n",
    "\n",
    "# Método RK4\n",
    "def rk4_system_1(f1,x1,x2,t,h,n):\n",
    "    D = np.array([[t,x1,x2]])\n",
    "    for i in range(n):\n",
    "        K1_x1 = f1(x1,x2,t)[0]\n",
    "        K1_x2 = f1(x1,x2,t)[1]\n",
    "        K2_x1 = f1(x1 + h/2*K1_x1, x2* h/2*K1_x2, t)[0]\n",
    "        K2_x2 = f1(x1 + h/2*K1_x1, x2* h/2*K1_x2, t)[1]\n",
    "        K3_x1 = f1(x1 + h/2*K2_x1, x2* h/2*K2_x2, t)[0]\n",
    "        K3_x2 = f1(x1 + h/2*K2_x1, x2* h/2*K2_x2, t)[1]\n",
    "        K4_x1 = f1(x1 + h*K3_x1,x2 + h*K3_x2, t)[0]\n",
    "        K4_x2 = f1(x1 + h*K3_x1,x2 + h*K3_x2, t)[1]\n",
    "        x1 = x + h/6*(K1_x1 + 2*K2_x1 + 2*K3_x1 + K4_x1)\n",
    "        x2 = x + h/6*(K1_x2 + 2*K2_x2 + 2*K3_x2 + K4_x2)\n",
    "        t = t + h\n",
    "        D = np.append(D,[[t,x1,x2]], axis = 0)\n",
    "    return D\n",
    "\n",
    "def rk4_system_2(f2,x1,x2,x3,x4,t,h,n):\n",
    "    D = np.array([[t,x1,x2,x3,x4]])\n",
    "    for i in range(n):\n",
    "        K1_x1 = f2(x1,x2,x3,x4,t)[0]\n",
    "        K1_x2 = f2(x1,x2,x3,x4,t)[1]\n",
    "        K1_x3 = f2(x1,x2,x3,x4,t)[2]\n",
    "        K1_x4 = f2(x1,x2,x3,x4,t)[3]\n",
    "        K2_x1 = f2(x1 + h/2*K1_x1, x2* h/2*K1_x2, x3* h/2*K1_x3, x4* h/2*K1_x4, t)[0]\n",
    "        K2_x2 = f2(x1 + h/2*K1_x1, x2* h/2*K1_x2, x3* h/2*K1_x3, x4* h/2*K1_x4, t)[1]\n",
    "        K2_x3 = f2(x1 + h/2*K1_x1, x2* h/2*K1_x2, x3* h/2*K1_x3, x4* h/2*K1_x4, t)[2]\n",
    "        K2_x4 = f2(x1 + h/2*K1_x1, x2* h/2*K1_x2, x3* h/2*K1_x3, x4* h/2*K1_x4, t)[3]\n",
    "        K3_x1 = f2(x1 + h/2*K2_x1, x2* h/2*K2_x2, x3* h/2*K2_x3, x4* h/2*K2_x4, t)[0]\n",
    "        K3_x2 = f2(x1 + h/2*K2_x1, x2* h/2*K2_x2, x3* h/2*K2_x3, x4* h/2*K2_x4, t)[1]\n",
    "        K3_x3 = f2(x1 + h/2*K2_x1, x2* h/2*K2_x2, x3* h/2*K2_x3, x4* h/2*K2_x4, t)[2]\n",
    "        K3_x4 = f2(x1 + h/2*K2_x1, x2* h/2*K2_x2, x3* h/2*K2_x3, x4* h/2*K2_x4, t)[3]\n",
    "        K4_x1 = f2(x1 + h*K3_x1,x2 + h*K3_x2,x3 + h*K3_x3,x4 + h*K3_x4, t)[0]\n",
    "        K4_x2 = f2(x1 + h*K3_x1,x2 + h*K3_x2,x3 + h*K3_x3,x4 + h*K3_x4, t)[1]\n",
    "        K4_x3 = f2(x1 + h*K3_x1,x2 + h*K3_x2,x3 + h*K3_x3,x4 + h*K3_x4, t)[2]\n",
    "        K4_x4 = f2(x1 + h*K3_x1,x2 + h*K3_x2,x3 + h*K3_x3,x4 + h*K3_x4, t)[3]\n",
    "        x1 = x + h/6*(K1_x1 + 2*K2_x1 + 2*K3_x1 + K4_x1)\n",
    "        x2 = x + h/6*(K1_x2 + 2*K2_x2 + 2*K3_x2 + K4_x2)\n",
    "        x3 = x + h/6*(K1_x3 + 2*K2_x3 + 2*K3_x3 + K4_x3)\n",
    "        x4 = x + h/6*(K1_x4 + 2*K2_x4 + 2*K3_x4 + K4_x4)\n",
    "        t = t + h\n",
    "        D = np.append(D,[[t,x1,x2,x3,x4]], axis = 0)\n",
    "    return D"
   ]
  }
 ],
 "metadata": {
  "kernelspec": {
   "display_name": "Python 3.6",
   "language": "python",
   "name": "python36"
  },
  "language_info": {
   "codemirror_mode": {
    "name": "ipython",
    "version": 3
   },
   "file_extension": ".py",
   "mimetype": "text/x-python",
   "name": "python",
   "nbconvert_exporter": "python",
   "pygments_lexer": "ipython3",
   "version": "3.6.2"
  }
 },
 "nbformat": 4,
 "nbformat_minor": 2
}
