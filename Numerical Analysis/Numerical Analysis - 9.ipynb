{
 "cells": [
  {
   "cell_type": "markdown",
   "metadata": {},
   "source": [
    "# Numerical Analysis - 9\n",
    "###### Rafael Barsotti"
   ]
  },
  {
   "cell_type": "markdown",
   "metadata": {
    "collapsed": true
   },
   "source": [
    "#### 1) Implemente o método preditor-corretor de Milne-Simpson para aproximar a solução do PVI: $y′ = −y$ , $y(0) = 1$ para $t ∈ [1, 9]$ com $h = 0.1$ e $h = 0.01$ (utilize o método de Runge-Kutta de ordem 4 para obter a condição inicial). Compare os resultados obtidos para $t = 9$ em ambos os casos"
   ]
  },
  {
   "cell_type": "code",
   "execution_count": 1,
   "metadata": {
    "collapsed": true
   },
   "outputs": [],
   "source": [
    "import numpy as np\n",
    "import pandas as pd\n",
    "import matplotlib.pyplot as plt\n",
    "import seaborn as sns\n",
    "import math as m"
   ]
  },
  {
   "cell_type": "code",
   "execution_count": 2,
   "metadata": {
    "collapsed": true
   },
   "outputs": [],
   "source": [
    "#Função f(y,t)\n",
    "def f(y):\n",
    "    y = -y\n",
    "    return y\n",
    "\n",
    "# Método Preditor Corretor Milne-Simpson\n",
    "def milne_simpson(t0,y0,a,b,h):\n",
    "    n = (b-a)/h\n",
    "    t = t0\n",
    "    y = y0\n",
    "    y_hist = list(y)\n",
    "    t_hist = list(t)\n",
    "    for i in range(3):\n",
    "        K1 = h * f(t,y)\n",
    "        K2 = h * f(t + 1/2 * h,y + 1/2 * K1)\n",
    "        K3 = h * f(t + 1/2 * h,y + 1/2 * K2)\n",
    "        K4 = h * f(t + h,y + K3)\n",
    "        y = y + 1/6 * (K1 + 2*K2 + 2*K3 + K4)\n",
    "        t = t + h\n",
    "        y_hist.append(y)\n",
    "        t_hist.append(t)\n",
    "    for i in range(4,n):\n",
    "        t = t + h \n",
    "        y = y_hist[0] + (4 * h/3) * (2*f(t_hist[3],y_hist[3]) - f(t_hist[2],y_hist[2]) + 2 * f(t_hist[1],y_hist[1]))\n",
    "        y = y_hist[2] + (h/3) * (f(t,y) + 4 * f(t_hist[3],y_hist[3]) + f(t_hist[2],y_hist[2]))\n",
    "        del(t_hist[0])\n",
    "        del(y_hist[0])\n",
    "        t_hist.append(t)\n",
    "        y_hist.append(y)\n",
    "    return thist, y_hist"
   ]
  }
 ],
 "metadata": {
  "kernelspec": {
   "display_name": "Python 3.6",
   "language": "python",
   "name": "python36"
  },
  "language_info": {
   "codemirror_mode": {
    "name": "ipython",
    "version": 3
   },
   "file_extension": ".py",
   "mimetype": "text/x-python",
   "name": "python",
   "nbconvert_exporter": "python",
   "pygments_lexer": "ipython3",
   "version": "3.6.2"
  }
 },
 "nbformat": 4,
 "nbformat_minor": 2
}
