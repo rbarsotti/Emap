{
 "cells": [
  {
   "cell_type": "markdown",
   "metadata": {
    "collapsed": true
   },
   "source": [
    "# Análise Numérica - 1"
   ]
  },
  {
   "cell_type": "markdown",
   "metadata": {},
   "source": [
    "### Questão 1"
   ]
  },
  {
   "cell_type": "markdown",
   "metadata": {},
   "source": [
    "###### Mostre quantos termos são necessários para calcular e corretamente até a décima casa decimal (ie, acurácia 11) usando a expansão em série de Taylor de $f(x) = e^x$"
   ]
  },
  {
   "cell_type": "markdown",
   "metadata": {},
   "source": [
    "Sabemos que $:$\n",
    "\n",
    "$f(x) \\approx \\sum_{k=0}^\\infty \\frac{f^{(k)}(c)}{k!}(x - c)^{k} $\n",
    "\n",
    "$e^x  = \\sum_{n=0}^\\infty \\frac{x^n}{n!} $\n",
    "\n",
    "$e^x$ é $C^{\\infty}$\n",
    "\n",
    "Assim dado um $I = [a,b]$ podemos usar o $Teorema$ $de$ $Taylor$ $:$\n",
    "\n",
    "$f(x+h) = \\sum_{k=0}^\\infty \\frac{f^{(k)}(c)}{k!}(h)^{k} +E_{n+1} $\n",
    "\n",
    "$E_{n+1} := \\frac{f^{(n+1)}(\\xi)}{(n+1)!}h^{n+1}$\n",
    "\n",
    "Dado $e^{1+h}$ vamos computar $e^{1,00001}$ $:$\n",
    "\n",
    "Se $f(x) = e^x$ temos que $f^{(n)}(x) = e^{x}$ $\\forall$ $n$ $\\ni$ $\\mathbb{N} $ , usando $x=1$ e $n=13$ $:$\n",
    "\n",
    "$e + eh + \\frac{e}{2}h^2 + \\; ... \\; \\frac{e^{\\xi}}{14!}h^{14}$\n",
    "\n",
    "$1 \\le \\xi \\le 1+h$\n",
    "\n",
    "$\\frac{e^{\\xi}}{14!}h^{14}$ < $10^{-10}$\n",
    "\n",
    "Logo, com grau 14, conseguimos aproximar $e^{x}$ com $x = 1$ com acurácia $11$ (i.e até a décima casa decimal)\n",
    "\n"
   ]
  },
  {
   "cell_type": "markdown",
   "metadata": {},
   "source": [
    "###### Testando numéricamente com $x = 1$ $:$"
   ]
  },
  {
   "cell_type": "code",
   "execution_count": 46,
   "metadata": {},
   "outputs": [
    {
     "name": "stdout",
     "output_type": "stream",
     "text": [
      "e = 2.718281828459045\n"
     ]
    }
   ],
   "source": [
    "import math\n",
    "print(u'e = {}'.format(math.e))"
   ]
  },
  {
   "cell_type": "code",
   "execution_count": 48,
   "metadata": {},
   "outputs": [
    {
     "name": "stdout",
     "output_type": "stream",
     "text": [
      "Taylor de grau 1 : 1\n",
      "Taylor de grau 2 : 2\n",
      "Taylor de grau 3 : 2.5\n",
      "Taylor de grau 4 : 2.6666666666666665\n",
      "Taylor de grau 5 : 2.708333333333333\n",
      "Taylor de grau 6 : 2.7166666666666663\n",
      "Taylor de grau 7 : 2.7180555555555554\n",
      "Taylor de grau 8 : 2.7182539682539684\n",
      "Taylor de grau 9 : 2.71827876984127\n",
      "Taylor de grau 10 : 2.7182815255731922\n",
      "Taylor de grau 11 : 2.7182818011463845\n",
      "Taylor de grau 12 : 2.718281826198493\n",
      "Taylor de grau 13 : 2.7182818282861687\n",
      "Taylor de grau 14 : 2.7182818284467594\n"
     ]
    }
   ],
   "source": [
    "taylorn = 2\n",
    "n1 = 1\n",
    "n2 = 2\n",
    "print(u'Taylor de grau {} : {}'.format(1,1))\n",
    "print(u'Taylor de grau {} : {}'.format(2,2))\n",
    "while math.e - taylorn > 10**-10:\n",
    "    n1 = n1 + 1\n",
    "    n2 = n2 + 1\n",
    "    taylorn = taylorn + 1/(math.factorial(n1))\n",
    "    print(u'Taylor de grau {} : {}'.format(n2,taylorn))"
   ]
  },
  {
   "cell_type": "markdown",
   "metadata": {},
   "source": [
    "### Questão 2"
   ]
  },
  {
   "cell_type": "markdown",
   "metadata": {},
   "source": [
    "###### Implemente um programa que calcule o valor de um polinômio qualquer em um ponto $x_0$ (ambos fornecidos pelo usuário), utilizando o algoritmo de Horner. Coloque o código completo, dizendo em qual programa/linguagem foi escrito e coloque um exemplo numérico simples do funcionamento."
   ]
  },
  {
   "cell_type": "code",
   "execution_count": null,
   "metadata": {
    "collapsed": true
   },
   "outputs": [],
   "source": [
    "#Pseudocódigo do Livro\n",
    "integer n, k, j ; real r ; real array (ai )0:n\n",
    "    for k = 0 to n - 1 do\n",
    "        for j = n - 1 to k do\n",
    "        aj <- aj + raj+1\n",
    "        end for\n",
    "    end for"
   ]
  },
  {
   "cell_type": "code",
   "execution_count": 3,
   "metadata": {
    "collapsed": true
   },
   "outputs": [],
   "source": [
    "#Algoritimo Horner em Python:\n",
    "# p = [Lista de Coeficientes do Polinômio]\n",
    "# x = Valor de x do Polinômio\n",
    "# Polinômio = a[0]*(x**0) + a[1]*(x**1) + a[2]*(x**2) + a[3]*(x**3) ....\n",
    "\n",
    "def horner(x, p):\n",
    "    stack = 0 \n",
    "    for i in range(len(p)-1, -1, -1):\n",
    "        stack = p[i] + (x * stack) #Recurssão\n",
    "    return stack"
   ]
  },
  {
   "cell_type": "markdown",
   "metadata": {},
   "source": [
    "Testando em $P(5) = 1\\,(5^0) + 2\\,(5^{1}) + 3\\,(5^{2})$ $:$"
   ]
  },
  {
   "cell_type": "code",
   "execution_count": 4,
   "metadata": {},
   "outputs": [
    {
     "data": {
      "text/plain": [
       "86"
      ]
     },
     "execution_count": 4,
     "metadata": {},
     "output_type": "execute_result"
    }
   ],
   "source": [
    "horner(5,[1,2,3]) "
   ]
  },
  {
   "cell_type": "code",
   "execution_count": 6,
   "metadata": {},
   "outputs": [
    {
     "data": {
      "text/plain": [
       "86"
      ]
     },
     "execution_count": 6,
     "metadata": {},
     "output_type": "execute_result"
    }
   ],
   "source": [
    "#Verificando Usando Numpy\n",
    "import numpy as np\n",
    "#P.s np.polyval lê os coeficientes ao contrário\n",
    "np.polyval([3,2,1],5) "
   ]
  }
 ],
 "metadata": {
  "kernelspec": {
   "display_name": "Python 3.6",
   "language": "python",
   "name": "python36"
  },
  "language_info": {
   "codemirror_mode": {
    "name": "ipython",
    "version": 3
   },
   "file_extension": ".py",
   "mimetype": "text/x-python",
   "name": "python",
   "nbconvert_exporter": "python",
   "pygments_lexer": "ipython3",
   "version": "3.6.3"
  }
 },
 "nbformat": 4,
 "nbformat_minor": 2
}
