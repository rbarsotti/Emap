{
 "cells": [
  {
   "cell_type": "code",
   "execution_count": 1,
   "metadata": {
    "collapsed": true
   },
   "outputs": [],
   "source": [
    "import numpy as np\n",
    "import matplotlib.pyplot as plt\n",
    "import networkx as nx\n",
    "import random\n",
    "from scipy.stats import norm\n",
    "from scipy.stats import uniform\n",
    "from scipy.stats import invgauss\n",
    "\n",
    "def random_dist(s):\n",
    "    a = np.zeros((s,2))\n",
    "    b = np.arange(1,11)\n",
    "    c = np.random.dirichlet(np.ones(s),size=1)\n",
    "    a[:,1] = c\n",
    "    a[:,0] = b\n",
    "    np.around(a[:,0])\n",
    "    return a\n",
    "\n",
    "def random_normal():\n",
    "    mu = 0\n",
    "    vals = invgauss.ppf([0.001, 0.5, 0.999], mu)\n",
    "    res = invgauss.cdf(vals, mu)\n",
    "    return res\n",
    "\n",
    "def configuration_model(t):\n",
    "    x = []\n",
    "    for i in range(1,len(t)+1):\n",
    "        l = random.choice(t[:,1])\n",
    "        if l not in x:\n",
    "            x.append(l)\n",
    "        else:\n",
    "            l = random.choice(t[:,1])"
   ]
  },
  {
   "cell_type": "code",
   "execution_count": 27,
   "metadata": {
    "collapsed": true
   },
   "outputs": [],
   "source": [
    "from networkx.utils import powerlaw_sequence\n",
    "z=nx.utils.create_degree_sequence(1000,powerlaw_sequence)\n",
    "G=nx.configuration_model(z)"
   ]
  },
  {
   "cell_type": "code",
   "execution_count": 42,
   "metadata": {},
   "outputs": [
    {
     "data": {
      "image/png": "[encoded data removed]",
      "text/plain": [
       "<matplotlib.figure.Figure at 0x7f9a58d20cc0>"
      ]
     },
     "metadata": {},
     "output_type": "display_data"
    }
   ],
   "source": [
    "a = nx.degree_histogram(G)\n",
    "b = range(0,360,10)\n",
    "plt.hist(a, bins = 'auto')\n",
    "plt.show()"
   ]
  },
  {
   "cell_type": "code",
   "execution_count": null,
   "metadata": {},
   "outputs": [],
   "source": []
  },
  {
   "cell_type": "code",
   "execution_count": 6,
   "metadata": {},
   "outputs": [
    {
     "name": "stdout",
     "output_type": "stream",
     "text": [
      "1.0\n"
     ]
    }
   ],
   "source": [
    "print(sum(sum(a)))"
   ]
  },
  {
   "cell_type": "code",
   "execution_count": 19,
   "metadata": {},
   "outputs": [
    {
     "data": {
      "text/plain": [
       "array([ 0.001,  0.5  ,  0.999])"
      ]
     },
     "execution_count": 19,
     "metadata": {},
     "output_type": "execute_result"
    }
   ],
   "source": [
    "random_normal()"
   ]
  },
  {
   "cell_type": "code",
   "execution_count": 60,
   "metadata": {},
   "outputs": [
    {
     "data": {
      "text/plain": [
       "array([[  1.        ,   0.23263398],\n",
       "       [  2.        ,   0.05511862],\n",
       "       [  3.        ,   0.01717018],\n",
       "       [  4.        ,   0.22088148],\n",
       "       [  5.        ,   0.03315859],\n",
       "       [  6.        ,   0.09404266],\n",
       "       [  7.        ,   0.07569677],\n",
       "       [  8.        ,   0.05668718],\n",
       "       [  9.        ,   0.20042437],\n",
       "       [ 10.        ,   0.01418617]])"
      ]
     },
     "execution_count": 60,
     "metadata": {},
     "output_type": "execute_result"
    }
   ],
   "source": [
    "random_dist(10)"
   ]
  },
  {
   "cell_type": "code",
   "execution_count": 66,
   "metadata": {},
   "outputs": [
    {
     "data": {
      "text/plain": [
       "array([[  1.        ,   0.14715096],\n",
       "       [  2.        ,   0.06514334],\n",
       "       [  3.        ,   0.09957287],\n",
       "       [  4.        ,   0.01495239],\n",
       "       [  5.        ,   0.02642038],\n",
       "       [  6.        ,   0.03632262],\n",
       "       [  7.        ,   0.395406  ],\n",
       "       [  8.        ,   0.12413087],\n",
       "       [  9.        ,   0.05075499],\n",
       "       [ 10.        ,   0.04014559]])"
      ]
     },
     "execution_count": 66,
     "metadata": {},
     "output_type": "execute_result"
    }
   ],
   "source": [
    "a = random_dist(10)\n",
    "a"
   ]
  },
  {
   "cell_type": "code",
   "execution_count": 2,
   "metadata": {
    "scrolled": true
   },
   "outputs": [
    {
     "ename": "SyntaxError",
     "evalue": "invalid syntax (<ipython-input-2-e8120408af25>, line 6)",
     "output_type": "error",
     "traceback": [
      "\u001b[0;36m  File \u001b[0;32m\"<ipython-input-2-e8120408af25>\"\u001b[0;36m, line \u001b[0;32m6\u001b[0m\n\u001b[0;31m    G = nx.expected_degree_graph(s, selfloops=False)\u001b[0m\n\u001b[0m    ^\u001b[0m\n\u001b[0;31mSyntaxError\u001b[0m\u001b[0;31m:\u001b[0m invalid syntax\n"
     ]
    }
   ],
   "source": [
    "import networkx as nx\n",
    "import matplotlib.pyplot as plt\n",
    "\n",
    "#100 nodes, power-law exponent 2.5\n",
    "s = (nx.utils.powerlaw_sequence(100, 2.5)\n",
    "G = nx.expected_degree_graph(s, selfloops=False)\n",
    "\n",
    "pos = nx.spring_layout(G)\n",
    "nx.draw_networkx(G, pos)\n",
    "\n",
    "plt.loglog(s)\n",
    "plt.show()"
   ]
  },
  {
   "cell_type": "code",
   "execution_count": 1,
   "metadata": {},
   "outputs": [
    {
     "ename": "SyntaxError",
     "evalue": "invalid syntax (<ipython-input-1-5e7ff64d9139>, line 5)",
     "output_type": "error",
     "traceback": [
      "\u001b[0;36m  File \u001b[0;32m\"<ipython-input-1-5e7ff64d9139>\"\u001b[0;36m, line \u001b[0;32m5\u001b[0m\n\u001b[0;31m    G = nx.expected_degree_graph(s, selfloops=False)\u001b[0m\n\u001b[0m    ^\u001b[0m\n\u001b[0;31mSyntaxError\u001b[0m\u001b[0;31m:\u001b[0m invalid syntax\n"
     ]
    }
   ],
   "source": [
    "import networkx as nx\n",
    "import matplotlib.pyplot as plt\n",
    "\n",
    "s = (nx.utils.powerlaw_sequence(100, 2.5)\n",
    "G = nx.expected_degree_graph(s, selfloops=False)\n",
    "\n",
    "pos = nx.spring_layout(G)\n",
    "nx.draw_networkx(G, pos)\n",
    "plt.show()"
   ]
  },
  {
   "cell_type": "code",
   "execution_count": 77,
   "metadata": {},
   "outputs": [
    {
     "data": {
      "text/plain": [
       "matrix([[  2.47798324,   1.31442283,   1.21599249,   1.53858265,\n",
       "           6.27130398,   1.09153738,   3.29162695,   1.35362308,\n",
       "           2.01133701,   1.05364259,   1.34082655,   1.11496703,\n",
       "           2.3886068 ,   1.41183607,   3.47452423,   1.5571834 ,\n",
       "           1.42814766,   1.29417189,   1.63631673,   9.83481804,\n",
       "          15.02289595,   1.13834893,   1.02946858,   1.16619021,\n",
       "           1.03431064,   2.58908787,   1.70962197,   1.82629687,\n",
       "           1.86908792,   1.83130718,   1.05284259,   2.66601336,\n",
       "           1.97730861,   1.14013546,   2.24866013,   1.08812519,\n",
       "           1.14689009,   1.3927479 ,   2.01294825,   1.13791296,\n",
       "           1.2889563 ,   2.08922401,   2.23812982,   1.04233019,\n",
       "           1.09043819,   5.84567362,  26.93986281,   3.76551538,\n",
       "           3.68845011,   1.08309162,   4.56686341,   1.45302028,\n",
       "           1.99163202,   1.19383211,   1.13350056,   3.76778285,\n",
       "           2.16228344,   1.12645473,   2.07943467,   1.78572904,\n",
       "           1.03917272,   2.58256102,   1.42476746,   1.48568145,\n",
       "           1.00967028,   1.53312002,   2.17780639,   1.01045126,\n",
       "           1.53529166,   2.49200874,   2.40456755,   2.05695883,\n",
       "           1.51358764,   1.34837862,   2.46457024,   1.57570898,\n",
       "           1.27253007,   1.69658317,   2.38421883,   1.88623358,\n",
       "           1.20573428,   2.02657289,   1.28386138,   2.11574288,\n",
       "           1.24200042,   1.9247426 ,   2.59602181,   2.742646  ,\n",
       "           1.37676647,   3.99231384,   1.00728284,   2.00865233,\n",
       "           1.38619777,   1.67997103,   6.4738098 ,   1.10579349,\n",
       "           2.14425031,   2.21293977,   1.19480726,   1.08167492]])"
      ]
     },
     "execution_count": 77,
     "metadata": {},
     "output_type": "execute_result"
    }
   ],
   "source": [
    "a = np.matrix(s)\n",
    "a"
   ]
  }
 ],
 "metadata": {
  "kernelspec": {
   "display_name": "Python 3.6",
   "language": "python",
   "name": "python36"
  },
  "language_info": {
   "codemirror_mode": {
    "name": "ipython",
    "version": 3
   },
   "file_extension": ".py",
   "mimetype": "text/x-python",
   "name": "python",
   "nbconvert_exporter": "python",
   "pygments_lexer": "ipython3",
   "version": "3.6.0"
  }
 },
 "nbformat": 4,
 "nbformat_minor": 2
}
