{
 "cells": [
  {
   "cell_type": "markdown",
   "metadata": {
    "collapsed": true
   },
   "source": [
    "# Complex Networks - A2\n",
    "### Networked Markets\n",
    "###### Rafael Barsotti"
   ]
  },
  {
   "cell_type": "code",
   "execution_count": 1,
   "metadata": {
    "collapsed": true
   },
   "outputs": [],
   "source": [
    "import numpy as np\n",
    "import pandas as pd\n",
    "import matplotlib.pyplot as plt\n",
    "import seaborn as sns\n",
    "import networkx as nx\n",
    "import warnings\n",
    "warnings.filterwarnings('ignore')"
   ]
  },
  {
   "cell_type": "markdown",
   "metadata": {},
   "source": [
    "##### Para simularmos uma economia primeiro construiremos um grafo bipartido representando uma rede, onde de um lado teremos os compradores e do outro lado teremos os vendedores. A cada rodada os vendedores e compradores irão se alternar para oferecer preços de venda  e compra respectivamente como num leilão. Assim a cada rodada par alguns compradores irão aceitar as ofertas de vendedores ligados a eles e outros não, o mesmo será analogo para rodadas ímpares."
   ]
  },
  {
   "cell_type": "code",
   "execution_count": 50,
   "metadata": {
    "collapsed": true
   },
   "outputs": [],
   "source": [
    "def random_exchange_network(buyers,sellers):\n",
    "    if buyers > sellers:\n",
    "        G = np.zeros((buyers,2))\n",
    "        G[:,0] = np.arange(buyers)\n",
    "        G[:,1] = np.random.random_integers(sellers+2,buyers,buyers)\n",
    "    else:\n",
    "        G = np.zeros((sellers,2))\n",
    "        G[:,0] = np.arange(sellers)\n",
    "        G[:,1] = np.random.random_integers(buyers+2,sellers,sellers)\n",
    "    return G\n",
    "\n",
    "# Plot Network \n",
    "def network_plot(G):\n",
    "    df = pd.DataFrame(G, columns=['Buyers', 'Sellers'])\n",
    "    df = df.astype(int)\n",
    "    G = nx.from_pandas_dataframe(df,'Buyers','Sellers')\n",
    "    nx.draw(G, with_labels = True)\n",
    "    plt.show()\n",
    "\n",
    "# Simulador do jogo Corominas Bosh\n",
    "def corominas_bosh(G,delta,p0_buyer,p0_seller,tmax):\n",
    "    G_trades = np.zeros((1,4))\n",
    "    for t in range(1,tmax):\n",
    "        u1 = np.random.uniform(0,1)\n",
    "        if t%2 == 0:\n",
    "            p_buyer = p0_buyer * 1.01\n",
    "            payoff_buyer = delta**t * (1-p)\n",
    "            G_trades = np.append(G,[[t,buyer,seller,payoff_buyer,payoff_seller]],axis = 0)\n",
    "        else:\n",
    "            p_seller = p0_seller * 0.99 \n",
    "            payoff_seller = delta**t * p\n",
    "            G_trades = np.append(G,[[t,buyer,seller,payoff_buyer,payoff_seller]],axis = 0)\n",
    "    print(\"O payoff final dos compradores foi {}\".format(payoff_buyer))\n",
    "    print(\"O payoff final dos vendedores foi {}\".format(payoff_seller))"
   ]
  },
  {
   "cell_type": "markdown",
   "metadata": {},
   "source": [
    "###### Simulaçao Rede Pequena com Poucas Rodadas"
   ]
  },
  {
   "cell_type": "code",
   "execution_count": 77,
   "metadata": {},
   "outputs": [
    {
     "data": {
      "image/png": "[encoded data removed]",
      "text/plain": [
       "<matplotlib.figure.Figure at 0x7f0fb4610860>"
      ]
     },
     "metadata": {},
     "output_type": "display_data"
    },
    {
     "name": "stdout",
     "output_type": "stream",
     "text": [
      "O payoff final dos compradores foi 0.34\n",
      "O payoff final dos vendedores foi 0.85\n"
     ]
    }
   ],
   "source": [
    "# Buyers = 10 \n",
    "# Seller = 3\n",
    "# tmax = 100\n",
    "G = random_exchange_network(10,3)\n",
    "network_plot(G)\n",
    "corominas_bosh(G,0.5,1,100,100)"
   ]
  },
  {
   "cell_type": "markdown",
   "metadata": {},
   "source": [
    "##### Simulação Rede Grande Com Muitas Rodadas"
   ]
  },
  {
   "cell_type": "code",
   "execution_count": 74,
   "metadata": {},
   "outputs": [
    {
     "name": "stdout",
     "output_type": "stream",
     "text": [
      "O payoff final dos compradores foi 0.002\n",
      "O payoff final dos vendedores foi 0.977\n"
     ]
    }
   ],
   "source": [
    "# Buyers = 1000 \n",
    "# Seller = 150\n",
    "# tmax = 10000\n",
    "G = random_exchange_network(1000,150)\n",
    "corominas_bosh(G,0.5,1,1000,10000)"
   ]
  }
 ],
 "metadata": {
  "kernelspec": {
   "display_name": "Python 3.6",
   "language": "python",
   "name": "python36"
  },
  "language_info": {
   "codemirror_mode": {
    "name": "ipython",
    "version": 3
   },
   "file_extension": ".py",
   "mimetype": "text/x-python",
   "name": "python",
   "nbconvert_exporter": "python",
   "pygments_lexer": "ipython3",
   "version": "3.6.2"
  }
 },
 "nbformat": 4,
 "nbformat_minor": 2
}
