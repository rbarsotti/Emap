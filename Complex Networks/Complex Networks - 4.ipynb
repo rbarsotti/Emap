{
 "cells": [
  {
   "cell_type": "markdown",
   "metadata": {
    "collapsed": true
   },
   "source": [
    "# Complex Networks - 4"
   ]
  },
  {
   "cell_type": "markdown",
   "metadata": {},
   "source": [
    "#### 1) Configuration Model: monte uma função que recebe como entrada um histograma dos graus dos vértices e retorna uma rede com exatamente este histograma de graus (com possíveis autoloops e multi-arestas)"
   ]
  },
  {
   "cell_type": "code",
   "execution_count": 1,
   "metadata": {
    "collapsed": true
   },
   "outputs": [],
   "source": [
    "import numpy as np\n",
    "import pandas as pd\n",
    "import matplotlib.pyplot as plt\n",
    "import seaborn as sns\n",
    "import networkx as nx\n",
    "import warnings\n",
    "warnings.filterwarnings('ignore')"
   ]
  },
  {
   "cell_type": "code",
   "execution_count": 2,
   "metadata": {
    "collapsed": true
   },
   "outputs": [],
   "source": [
    "# Questao 1)\n",
    "\n",
    "# Histogram to Adjancy List\n",
    "def hist_to_adj(x):\n",
    "    l = len(x)\n",
    "    G = np.zeros((1,2))\n",
    "    for i in range(l):\n",
    "        node_i = x[i,0]\n",
    "        degree_i = x[i,1]\n",
    "        for j in range(degree_i):\n",
    "            G = np.append(G,[[node_i,0]],axis = 0)\n",
    "    G = np.delete(G,0,0)\n",
    "    return G\n",
    "\n",
    "# Configuration Model\n",
    "def configuration_model(G):\n",
    "    G = hist_to_adj(G)\n",
    "    l = len(G)\n",
    "    nodes = np.unique(G)\n",
    "    for i in range(l):\n",
    "        u = np.random.choice(nodes)\n",
    "        G[i,1] = u\n",
    "    return G\n",
    "\n",
    "# Network Plot\n",
    "def network_plot(G):\n",
    "    df = pd.DataFrame(G, columns=['A', 'B'])\n",
    "    df = df.astype(int)\n",
    "    G = nx.from_pandas_dataframe(df,'A','B')\n",
    "    nx.draw_random(G)\n",
    "    plt.show()"
   ]
  },
  {
   "cell_type": "code",
   "execution_count": 5,
   "metadata": {},
   "outputs": [
    {
     "data": {
      "text/plain": [
       "array([[ 1.,  2.],\n",
       "       [ 1.,  1.],\n",
       "       [ 2.,  2.]])"
      ]
     },
     "execution_count": 5,
     "metadata": {},
     "output_type": "execute_result"
    }
   ],
   "source": [
    "# Exemplo\n",
    "x = np.array([[1, 2], [2, 1], [3,0]])\n",
    "G = configuration_model(x)\n",
    "G"
   ]
  },
  {
   "cell_type": "markdown",
   "metadata": {},
   "source": [
    "#### 2) Acrescente na função acima a opção de evitar autoloops e multi-arestas."
   ]
  },
  {
   "cell_type": "code",
   "execution_count": 6,
   "metadata": {
    "collapsed": true
   },
   "outputs": [],
   "source": [
    "# Questao 2)\n",
    "\n",
    "# Configuration Model No Self Loop No Multi-Edges\n",
    "def configuration_model_2(G):\n",
    "    G = hist_to_adj(G)\n",
    "    l = len(G)\n",
    "    nodes = np.unique(G)\n",
    "    for i in range(l):\n",
    "        node_i = G[i,0]\n",
    "        index = np.argwhere(nodes == node_i)\n",
    "        nodes2 = np.delete(nodes, index)\n",
    "        u = np.random.choice(nodes2)\n",
    "        G[i,1] = u\n",
    "    return G"
   ]
  },
  {
   "cell_type": "code",
   "execution_count": 7,
   "metadata": {},
   "outputs": [
    {
     "data": {
      "text/plain": [
       "array([[ 1.,  2.],\n",
       "       [ 1.,  0.],\n",
       "       [ 2.,  1.]])"
      ]
     },
     "execution_count": 7,
     "metadata": {},
     "output_type": "execute_result"
    }
   ],
   "source": [
    "x = np.array([[1, 2], [2, 1], [3,0]])\n",
    "G = configuration_model_2(x)\n",
    "G"
   ]
  },
  {
   "cell_type": "markdown",
   "metadata": {},
   "source": [
    "#### 3) Acrescente na função acima a opção de haver dois histogramas, um para os graus de entrada e outro para os graus de saída.\n"
   ]
  },
  {
   "cell_type": "code",
   "execution_count": 53,
   "metadata": {
    "collapsed": true
   },
   "outputs": [],
   "source": [
    "# Questão 3)\n",
    "\n",
    "# Output Histogram to Adjancy List\n",
    "def hist_to_adj_out(x):\n",
    "    l = len(x)\n",
    "    G = np.zeros((1,2))\n",
    "    for i in range(l):\n",
    "        node_i = x[i,0]\n",
    "        degree_i = x[i,1]\n",
    "        for j in range(degree_i):\n",
    "            G = np.append(G,[[node_i,0]],axis = 0)\n",
    "    G = np.delete(G,0,0)\n",
    "    return G\n",
    "\n",
    "# Input Histogram to Adjancy List\n",
    "def hist_to_adj_in(x):\n",
    "    l = len(x)\n",
    "    G = np.zeros((1,2))\n",
    "    for i in range(l):\n",
    "        node_i = x[i,0]\n",
    "        degree_i = x[i,1]\n",
    "        for j in range(degree_i):\n",
    "            G = np.append(G,[[0,node_i]],axis = 0)\n",
    "    G = np.delete(G,0,0)\n",
    "    return G\n",
    "\n",
    "#Configuration Model for Directed Network\n",
    "def configuration_model_directed(G1,G2):\n",
    "    G1 = hist_to_adj_out(G1)\n",
    "    G2 = hist_to_adj_in(G2)\n",
    "    l1 = len(G1)\n",
    "    l2 = len(G2)\n",
    "    nodes1 = np.unique(G1)\n",
    "    nodes2 = np.unique(G2)\n",
    "    for i in range(l1):\n",
    "        node_i = G1[i,0]\n",
    "        index = np.argwhere(nodes1 == node_i)\n",
    "        nodes_available1 = np.delete(nodes1, index)\n",
    "        u1 = np.random.choice(nodes_available1)\n",
    "        G1[i,1] = u1\n",
    "    for i in range(l2):\n",
    "        node_i = G2[i,1]\n",
    "        index = np.argwhere(nodes2 == node_i)\n",
    "        nodes_available2 = np.delete(nodes2, index)\n",
    "        u2 = np.random.choice(nodes_available2)\n",
    "        G2[i,0] = u2    \n",
    "    G = np.append(G1,G2, axis = 0)\n",
    "    return G"
   ]
  },
  {
   "cell_type": "code",
   "execution_count": 58,
   "metadata": {},
   "outputs": [
    {
     "data": {
      "text/plain": [
       "array([[ 1.,  2.],\n",
       "       [ 1.,  0.],\n",
       "       [ 2.,  0.],\n",
       "       [ 0.,  1.],\n",
       "       [ 2.,  1.],\n",
       "       [ 0.,  2.]])"
      ]
     },
     "execution_count": 58,
     "metadata": {},
     "output_type": "execute_result"
    }
   ],
   "source": [
    "x1 = np.array([[1, 2], [2, 1], [3,0]])\n",
    "x1 = np.array([[1, 2], [2, 1], [3,0]])\n",
    "G = configuration_model_directed(x1,x2)\n",
    "G"
   ]
  }
 ],
 "metadata": {
  "kernelspec": {
   "display_name": "Python 3.6",
   "language": "python",
   "name": "python36"
  },
  "language_info": {
   "codemirror_mode": {
    "name": "ipython",
    "version": 3
   },
   "file_extension": ".py",
   "mimetype": "text/x-python",
   "name": "python",
   "nbconvert_exporter": "python",
   "pygments_lexer": "ipython3",
   "version": "3.6.2"
  }
 },
 "nbformat": 4,
 "nbformat_minor": 2
}
