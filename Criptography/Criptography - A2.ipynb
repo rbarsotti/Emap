{
  "cells": [
    {
      "metadata": {
        "collapsed": true
      },
      "cell_type": "markdown",
      "source": "# Criptografia - A2\n##### Rafael Barsotti"
    },
    {
      "metadata": {
        "trusted": true
      },
      "cell_type": "code",
      "source": "# Adicionar Website, RSA, Transferência\n\n\nimport hashlib as hasher\nimport datetime as date\n\nclass Block:\n    def __init__(self, index, timestamp, data, previous_hash):\n        self.index = index\n        self.timestamp = timestamp\n        self.data = data\n        self.previous_hash = previous_hash\n        self.hash = self.hash_block()\n  \n    def hash_block(self):\n        sha = hasher.sha256()\n        sha.update(str(self.index).encode('utf-8') + str(self.timestamp).encode('utf-8') + \n                   str(self.data).encode('utf-8') + str(self.previous_hash).encode('utf-8'))\n        return sha.hexdigest()\n\n\ndef create_genesis_block():\n    return Block(0, date.datetime.now(), \"Genesis Block\", \"0\")\n\ndef next_block(last_block):\n    this_index = last_block.index + 1\n    this_timestamp = date.datetime.now()\n    this_data = \"Hey! I'm block \" + str(this_index)\n    this_hash = last_block.hash\n    return Block(this_index, this_timestamp, this_data, this_hash)\n\nblockchain = [create_genesis_block()]\nprevious_block = blockchain[0]\n\nnum_of_blocks_to_add = 20\n\nfor i in range(0, num_of_blocks_to_add):\n    block_to_add = next_block(previous_block)\n    blockchain.append(block_to_add)\n    previous_block = block_to_add\n    print(\"Block #{} has been added to the blockchain!\".format(block_to_add.index))\n    print(\"Hash: {}\\n\".format(block_to_add.hash)) ",
      "execution_count": 4,
      "outputs": [
        {
          "output_type": "stream",
          "text": "Block #1 has been added to the blockchain!\nHash: bf316cfe5bb8c1555ac34894b46c2e8efb5b286011e3017cfd599d68bccc506b\n\nBlock #2 has been added to the blockchain!\nHash: aad2911db7b86e24b880578c3f3b422d988c1473719787253da264abcd5b1aa1\n\nBlock #3 has been added to the blockchain!\nHash: 5555de6061becad5cf64257e871ca468c0b0a2fccf6a80025255fb29cb189703\n\nBlock #4 has been added to the blockchain!\nHash: 153fe460b9ddbb5188ce4c3ab4589f69a8dfb2edfdf9372dc4d772fd44656825\n\nBlock #5 has been added to the blockchain!\nHash: 047225955d584d9d3aa3436a55f9146ba393ba56475f295dc8b61eff0dcea449\n\nBlock #6 has been added to the blockchain!\nHash: 193e2996cdbde67e565a14324cbbf1d4df421c30aeae806ed8ff2f0d18dae315\n\nBlock #7 has been added to the blockchain!\nHash: 31068a0fe0b618ac1823fdce6e023bc9dc9e42a3390190de0d2054cf8300eb04\n\nBlock #8 has been added to the blockchain!\nHash: 76ca5f2e01d47924f3f82dd203b245f66546447ae7ad882f837baf5d693031cc\n\nBlock #9 has been added to the blockchain!\nHash: d0282466364fa156fe609f72c0c05bbd68ba1e2d5982792cddbe2190d16a12cf\n\nBlock #10 has been added to the blockchain!\nHash: 6272c71ab2a709d73b38bf5c27a581e49e1c20cce095d6666d8cafadb3e3d1ff\n\nBlock #11 has been added to the blockchain!\nHash: b48ffcbe5d1177ed413b6c9fbecd82cc0160e1522cea17d3a19fcbedbc1e7fe9\n\nBlock #12 has been added to the blockchain!\nHash: ebd1aba8d5dc84648768c9676a56c195815e782ebd7e80cd3368c88548912eea\n\nBlock #13 has been added to the blockchain!\nHash: 1e178d6e7f55543b6e727f5981e14c4c0dba3e51a6dd3ee2517bba18d7acb22e\n\nBlock #14 has been added to the blockchain!\nHash: ac90019686f1b42789bf167432ca203de62c7f8230f31987d9a9ff26d59c6dea\n\nBlock #15 has been added to the blockchain!\nHash: 8ed695ad30dfc1951a361defbddff698fe07fd64c066df920806b14d1c60f427\n\nBlock #16 has been added to the blockchain!\nHash: d1bb64fa8ad6fa555d85ec46b8513b380ad902db0883d4ffaac4907be00507ae\n\nBlock #17 has been added to the blockchain!\nHash: db74dba84da2040e3f3905fc9938960fc632fbf2843ad59d8f921f571f394f89\n\nBlock #18 has been added to the blockchain!\nHash: b15974b9b48a513ae86dda2cf3c1a5991f666bdfdb31e7973308f22ef365b117\n\nBlock #19 has been added to the blockchain!\nHash: ddafd39a0ce54212a20c335bb6d9618f5212f9d27ece176e4432a167f25c1cab\n\nBlock #20 has been added to the blockchain!\nHash: 70da1f8462dafe1fcb2935b627a93d9dd0458f5fb50261a3d4d4578a5b7e8853\n\n",
          "name": "stdout"
        }
      ]
    },
    {
      "metadata": {
        "trusted": true
      },
      "cell_type": "code",
      "source": "",
      "execution_count": null,
      "outputs": []
    }
  ],
  "metadata": {
    "kernelspec": {
      "name": "python36",
      "display_name": "Python 3.6",
      "language": "python"
    },
    "language_info": {
      "mimetype": "text/x-python",
      "nbconvert_exporter": "python",
      "name": "python",
      "pygments_lexer": "ipython3",
      "version": "3.6.6",
      "file_extension": ".py",
      "codemirror_mode": {
        "version": 3,
        "name": "ipython"
      }
    }
  },
  "nbformat": 4,
  "nbformat_minor": 2
}