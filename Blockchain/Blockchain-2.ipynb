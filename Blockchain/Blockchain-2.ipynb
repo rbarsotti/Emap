{
  "cells": [
    {
      "metadata": {
        "collapsed": true
      },
      "cell_type": "markdown",
      "source": "# Criptografia - A2\n##### Rafael Barsotti & Kaline Santos\n#### Aplicações em Blockchain"
    },
    {
      "metadata": {},
      "cell_type": "markdown",
      "source": "https://bitcoin.org/bitcoin.pdf"
    },
    {
      "metadata": {},
      "cell_type": "markdown",
      "source": "#### Motivation:\n###### \"What is needed is an electronic payment system based on cryptographic proof instead of trust, allowing any two willing parties to transact directly with each other without the need for a trusted third party\""
    },
    {
      "metadata": {
        "scrolled": true,
        "trusted": true
      },
      "cell_type": "code",
      "source": "import random\nimport hashlib as hasher\nimport datetime as date\nimport json\n\n###############################\n######## Block Struct #########\n###############################\n\nclass Block:\n    def __init__(self, index, timestamp, data, previous_hash):\n        self.index = index\n        self.timestamp = timestamp\n        self.data = data\n        self.previous_hash = previous_hash\n        self.nonce = 0\n        self.nonce = self.solvePuzzle()\n        self.hash = self.hashBlock()\n  \n    def hashBlock(self):\n        sha = hasher.sha256()\n        sha.update(str(self.index).encode('utf-8') + str(self.timestamp).encode('utf-8') + \n                   str(self.data).encode('utf-8') + str(self.previous_hash).encode('utf-8') + \n                   str(self.nonce).encode('utf-8'))\n        return sha.hexdigest()\n    \n    def solvePuzzle(self):\n        trialBlock = self.hashBlock()\n        while trialBlock != '0'*5:\n            self.nonce += 1\n            trialBlock = self.hashBlock()\n            trialBlock = trialBlock[0:5]\n        return self.nonce\n        \n###############################\n########## Blockchain #########\n###############################\n\nclass Blockchain:\n    def __init__(self):\n        self.Blockchain = []\n        #self.Peers = [{\"ID\":\"KEY\"},...]\n        \n    def lastBlock(self):\n        l = len(self.Blockchain)\n        if l > 0:\n            return self.Blockchain[l-1]\n        else:\n            return None\n        \n    def createGenesisBlock(self):\n        data = {\"From\":\"\", \"To\":\"\", \"Amount\":\"\" , \"Signature\": []}\n        zero_hash = randomHash()\n        genesis_block = Block(0, date.datetime.now(), data, zero_hash)\n        self.Blockchain.append(genesis_block)\n        \n    def newBlock(self,new_data):\n        last_block = self.lastBlock()\n        this_index = last_block.index + 1\n        this_timestamp = date.datetime.now()\n        this_hash = last_block.hash\n        new_block = Block(this_index, this_timestamp, new_data, this_hash)\n        self.Blockchain.append(new_block)\n        \n\ndef randomHash():\n    sha = hasher.sha256()\n    i = str(random.randint(0,10**10))\n    h = sha.update(i.encode('utf-8'))\n    return sha.hexdigest()\n\n###############################\n############# RSA #############\n###############################\n\ndef asciiText(text):\n    numbered_message = ''\n    for i in text:\n        n = str(ord(i))\n        numbered_message += n\n    return numbered_message\n\ndef genKeys():\n    keys = (public_key, private_key)\n    return keys\n\ndef splitMessage(message):\n    breaked_message = []\n    for i in message:\n        breaked_message.append(i)\n    return breaked_message\n\ndef joinMessage(data):\n    message = ''\n    for i in data:\n        message += str(i)\n    return message\n\ndef encrypt(private_key, data):\n    n = private_key[0]\n    e = private_key[1]\n    encrypted_message = []\n    for i in data:\n        i = int(i)\n        c_b = i**e % n\n        encrypted_message.append(c_b)\n    return encrypted_message\n\ndef decrypt(public_key, data):\n    n = public_key[0]\n    d = public_key[1]\n    decrypted_message = []\n    for i in data:\n        i = int(i)\n        d_a = i**d % n\n        decrypted_message.append(d_a)\n    decrypted_message = joinMessage(decrypted_message)\n    return decrypted_message\n\ndef signTransaction(transaction, private_key):\n    return signature\n\ndef verifySignature(transaction):\n    data = transaction['Signature'][0]\n    encrypted_data = transaction['Signature'][1]\n    decrypted_data = decrypt(public_key,encrypted_data)\n    if decrypted_data == data:\n        print(\"Assinatura Confirmada\")\n    else:\n        print(\"Assinatura Errada: Transação Não Concluída\")\n\n###############################\n######### Check Block #########\n###############################\n\ndef verifySignature(data,public_key):\n    data = 5\n    return True\n\ndef verifySignatureBlock(block_data):\n    return True\n\ndef makeBalance(block_data):\n    return balance_sheet",
      "execution_count": 10,
      "outputs": []
    },
    {
      "metadata": {},
      "cell_type": "markdown",
      "source": "# Simulation\n###### Hash Complexity\nProbability = $\\frac{1}{16^{n}}$"
    },
    {
      "metadata": {
        "trusted": true
      },
      "cell_type": "code",
      "source": "a = Blockchain()\na.createGenesisBlock()",
      "execution_count": 11,
      "outputs": []
    },
    {
      "metadata": {},
      "cell_type": "markdown",
      "source": "#### Easy Proof of Work (1 Zero)\nProbability = $\\frac{1}{16}$"
    },
    {
      "metadata": {
        "trusted": true
      },
      "cell_type": "code",
      "source": "while len(a.Blockchain) < 10:\n    a.newBlock(\"{}\")\n    \nfor i in a.Blockchain:\n    print(i.index,i.timestamp,i.data,i.previous_hash,i.nonce)",
      "execution_count": 4,
      "outputs": [
        {
          "output_type": "stream",
          "text": "0 2018-12-04 12:34:18.995355 {'From': '', 'Signature': [], 'To': '', 'Amount': ''} 754b915a50f15cb9c47315c885593cd4d2fe5268783649effd157e3a45a6202c 2\n1 2018-12-04 12:34:25.492791 {} 0dc8c6534dc3600c1c4962894825b3a4d363656dcde72f0908a7e400e5b1a5d0 2\n2 2018-12-04 12:34:25.492967 {} 0815f1bcb20419748b76a0f07a06fd2c79559ffa3d288427617d9af48a02fc8e 2\n3 2018-12-04 12:34:25.494118 {} 0d2154080be3bd3d46a7a409a6c6b43af672aeda2f8af7c4b59794bbbd82049c 18\n4 2018-12-04 12:34:25.494425 {} 0ac5ae65ac30fd30a46ba317bddc8edfca72d34693071c4714f5945428057815 2\n5 2018-12-04 12:34:25.494505 {} 04d45adc9a40bdbc0d9f7f1283f541e1bee46a511408f84dad76b17d5a647510 18\n6 2018-12-04 12:34:25.494791 {} 0d809be491285d9afe4fc24c096465639d44471dbe28e8ab75323ccdd146a262 18\n7 2018-12-04 12:34:25.495079 {} 0fcfdbc95b040ecd7a511856e4c7be84ba4a2db9242e6883ae1a6dbc34800852 22\n8 2018-12-04 12:34:25.495406 {} 084bea430a752147387d162d8531fbcb53013bf6d38ee94cc3e5ef1c02b5023a 74\n9 2018-12-04 12:34:25.496320 {} 0e46bd046b3e29e91d7539c621ba29844b4694c3ebd722f93c7390b0febaaffc 4\n",
          "name": "stdout"
        }
      ]
    },
    {
      "metadata": {},
      "cell_type": "markdown",
      "source": "#### Harder Proof of Work (5 Zeros)\nProbability = $\\frac{1}{16^{5}}$"
    },
    {
      "metadata": {
        "trusted": true
      },
      "cell_type": "code",
      "source": "while len(a.Blockchain) < 10:\n    a.newBlock(\"{}\")\n    \nfor i in a.Blockchain:\n    print(i.index,i.timestamp,i.data,i.previous_hash,i.nonce)",
      "execution_count": 12,
      "outputs": [
        {
          "output_type": "stream",
          "text": "0 2018-12-04 12:36:10.449462 {'From': '', 'Signature': [], 'To': '', 'Amount': ''} 9976a25d3bf6b0e11f4337e556ceef333d04058eb92e0721e53e857d2a51634d 874522\n1 2018-12-04 12:36:50.704117 {} 0000061a4495415cc214c005402e0b0028a8a7d9706ef4de9e597ceb40711eb5 2918689\n2 2018-12-04 12:37:52.934494 {} 00000b6a83b0c5a4fbcea1196dbf4ba4c948a69e493081c80587fdf8001f2354 1139128\n3 2018-12-04 12:38:16.927451 {} 0000084b16ec9db39e03d05918924d438858e03ba78802bb329dce719d125606 1067552\n4 2018-12-04 12:38:39.864247 {} 0000048a3288704e794a76961e944eaf1b1fee9011b65ed8acc50aaa250cf003 272449\n5 2018-12-04 12:38:45.682665 {} 00000d16f65897d83ffe58f286b7bb7092987bac25f22f250eac51586c7c958e 1956148\n6 2018-12-04 12:39:27.424775 {} 0000005f12d2948b4c7f62489905398d5b3d1335756a42f577e51115d4119724 4943007\n7 2018-12-04 12:41:20.419140 {} 00000a17d389ea99e5389c4583438ab1a40cfeaf1df57ecd97cffb5f2b8a447b 475416\n8 2018-12-04 12:41:31.030618 {} 00000b5a942b88e518da216fee948fd12de04b023b7d3b0106f848c40ad47ab6 688647\n9 2018-12-04 12:41:47.273953 {} 000002b9fd8276b6c5a6598b71bb3343f95d244f9830b327e46964493c2303d5 1175652\n",
          "name": "stdout"
        }
      ]
    },
    {
      "metadata": {},
      "cell_type": "markdown",
      "source": "#### Harder Proof of Work (6 Zeros)\nProbability = $\\frac{1}{16^{6}}$"
    },
    {
      "metadata": {
        "trusted": false
      },
      "cell_type": "code",
      "source": "while len(a.Blockchain) < 10:\n    a.newBlock(\"{}\")\n    \nfor i in a.Blockchain:\n    print(i.index,i.timestamp,i.data,i.previous_hash,i.nonce)",
      "execution_count": 5,
      "outputs": [
        {
          "name": "stdout",
          "output_type": "stream",
          "text": "0 2018-12-03 08:39:47.069241 {'From': '', 'To': '', 'Amount': '', 'Signature': []} bac09faaf06826977fe7378b4838a2e39f1b405ffcdeabe838e0a76b3b239833 21296820\n1 2018-12-03 08:47:26.367846 {} 00000013534e6de309994d9dff9ead35e6c87cacd7f72643c134972db74e0e76 29254045\n2 2018-12-03 08:50:49.216915 {} 00000018112d1cdbd7835e38b8211f01d0258c619a2464ea10411a50f82fd449 5469708\n3 2018-12-03 08:51:30.155947 {} 000000aae58043a64b23ff2d38e16b3521520b611d1f4160d72df9cf6c53473d 17739859\n4 2018-12-03 08:53:43.491156 {} 0000008cced46d94663f9c7cf370fab921f9c43938cb3c7b3be1d53a674bcb9e 20940572\n5 2018-12-03 08:56:15.997411 {} 00000024be726d5543099f40565edfd1154d645b20bde8fb944fca7f348a49cd 5868886\n6 2018-12-03 08:56:59.369321 {} 0000007f0a1673de94ce64a3e027ce25099ed13a59f24d08a75d5a0cf9493143 9809610\n7 2018-12-03 08:58:12.081785 {} 0000005355eb4f76d66513793f9d5d9a21012228524f1e28315ef0694e20b515 33383143\n8 2018-12-03 09:02:20.314861 {} 000000fff58bc6a6b24849b4fe9abd53d087bf23d65435d78817f34183302fb6 26102299\n9 2018-12-03 09:05:34.265845 {} 00000049a7591038365f0b573640e44b31ceb9a43fb9cbceb84bc15639c60045 10734795\n"
        }
      ]
    },
    {
      "metadata": {},
      "cell_type": "markdown",
      "source": "#### Exemplo de Assinatura Digital:"
    },
    {
      "metadata": {},
      "cell_type": "markdown",
      "source": "###### Convertendo texto para tabela ASCII"
    },
    {
      "metadata": {
        "trusted": true
      },
      "cell_type": "code",
      "source": "message = asciiText(\"Hello World\")\nmessage",
      "execution_count": 3,
      "outputs": [
        {
          "output_type": "execute_result",
          "execution_count": 3,
          "data": {
            "text/plain": "'721011081081113287111114108100'"
          },
          "metadata": {}
        }
      ]
    },
    {
      "metadata": {},
      "cell_type": "markdown",
      "source": "###### Quebrando Mensagem (Caso exemplo de 1 em 1 algarismo mas na prática quebrar em intervalos aleatórios)"
    },
    {
      "metadata": {
        "trusted": true
      },
      "cell_type": "code",
      "source": "splited_message = splitMessage(message)\nprint(splited_message)",
      "execution_count": 7,
      "outputs": [
        {
          "output_type": "stream",
          "text": "['7', '2', '1', '0', '1', '1', '0', '8', '1', '0', '8', '1', '1', '1', '3', '2', '8', '7', '1', '1', '1', '1', '1', '4', '1', '0', '8', '1', '0', '0']\n",
          "name": "stdout"
        }
      ]
    },
    {
      "metadata": {},
      "cell_type": "markdown",
      "source": "###### Encriptando a Mensagem"
    },
    {
      "metadata": {
        "trusted": true
      },
      "cell_type": "code",
      "source": "private_key = (143,7)\nencrypted_message = encrypt(private_key,splited_message)\nprint(encrypted_message)",
      "execution_count": 12,
      "outputs": [
        {
          "output_type": "stream",
          "text": "[6, 128, 1, 0, 1, 1, 0, 57, 1, 0, 57, 1, 1, 1, 42, 128, 57, 6, 1, 1, 1, 1, 1, 82, 1, 0, 57, 1, 0, 0]\n",
          "name": "stdout"
        }
      ]
    },
    {
      "metadata": {},
      "cell_type": "markdown",
      "source": "###### Decriptando a Mensagem"
    },
    {
      "metadata": {
        "trusted": true
      },
      "cell_type": "code",
      "source": "public_key = (143,103)\ndecrypted_message = decrypt(public_key,encrypted_message)\nprint(decrypted_message)",
      "execution_count": 18,
      "outputs": [
        {
          "output_type": "stream",
          "text": "721011081081113287111114108100\n",
          "name": "stdout"
        }
      ]
    },
    {
      "metadata": {},
      "cell_type": "markdown",
      "source": "###### Assinatura Digital\n###### Enviar: (Dados, Encrypted(Dados))\n###### Verificar: (Decrypt(Encrypted(Dados), Dados)\n\n###### Apenas o dono daquela chave poderia ter encriptado aqueles dados uma vez que qual quer um com a chave pública desse usuário pode verificar"
    },
    {
      "metadata": {
        "trusted": true
      },
      "cell_type": "code",
      "source": "data = asciiText(\"!s89JT2sSAQ)b[G~GNqrM]b\")\nencrypted_message = encrypt(private_key , splitMessage(data))\ntransaction = {\"From\":\"Rafael\", \"To\":\"Kaline\", \"Amount\":\"100\" , \"Signature\": []}\ntransaction[\"Signature\"] = [data,encrypted_message]\nprint(transaction)",
      "execution_count": 21,
      "outputs": [
        {
          "output_type": "stream",
          "text": "{'To': 'Kaline', 'From': 'Rafael', 'Signature': ['331155657748450115836581419891711267178113114779398', [42, 42, 1, 1, 47, 47, 85, 47, 6, 6, 82, 57, 82, 47, 0, 1, 1, 47, 57, 42, 85, 47, 57, 1, 82, 1, 48, 57, 48, 1, 6, 1, 1, 128, 85, 6, 1, 6, 57, 1, 1, 42, 1, 1, 82, 6, 6, 48, 42, 48, 57]], 'Amount': '100'}\n",
          "name": "stdout"
        }
      ]
    },
    {
      "metadata": {},
      "cell_type": "markdown",
      "source": "###### Verificando a Assinatura:\n###### Kaline verifica se ao decriptar os dados criptografados do Rafael ao usar sua chave pública retorna os dados originais que o mesmo enviou"
    },
    {
      "metadata": {
        "trusted": true
      },
      "cell_type": "code",
      "source": "verifySignature(transaction)",
      "execution_count": 27,
      "outputs": [
        {
          "output_type": "stream",
          "text": "Assinatura Confirmada\n",
          "name": "stdout"
        }
      ]
    },
    {
      "metadata": {},
      "cell_type": "markdown",
      "source": "#### Gerador de números primos grandes, garantindo a \"incomputabilidade\" dos fatores de \"n\""
    },
    {
      "metadata": {
        "trusted": true
      },
      "cell_type": "code",
      "source": "from random import randrange, getrandbits\n\ndef is_prime(n, k=128):\n    if n == 2 or n == 3:\n        return True\n    if n <= 1 or n % 2 == 0:\n        return False\n    s = 0\n    r = n - 1\n    while r & 1 == 0:\n        s += 1\n        r //= 2\n    for _ in range(k):\n        a = randrange(2, n - 1)\n        x = pow(a, r, n)\n        if x != 1 and x != n - 1:\n            j = 1\n            while j < s and x != n - 1:\n                x = pow(x, 2, n)\n                if x == 1:\n                    return False\n                j += 1\n            if x != n - 1:\n                return False\n    return True\ndef generate_prime_candidate(length):\n    p = getrandbits(length)\n    p |= (1 << length - 1) | 1\n    return p\ndef generate_prime_number(length=1024):\n    p = 4\n    while not is_prime(p, 128):\n        p = generate_prime_candidate(length)\n    return p\nprint(generate_prime_number())",
      "execution_count": 28,
      "outputs": [
        {
          "output_type": "stream",
          "text": "132516362161212347010572291334732228585263052859896580751612252846824539379380367994724355356349903255815239846847846779512788429830675932462111950489066510509452276603501791677198339597361239769777950426409018836025569539580332592366886119349508885732617331603157139783964997558820857951252290084793476372943\n",
          "name": "stdout"
        }
      ]
    },
    {
      "metadata": {
        "trusted": false
      },
      "cell_type": "code",
      "source": "",
      "execution_count": null,
      "outputs": []
    }
  ],
  "metadata": {
    "kernelspec": {
      "name": "python3",
      "display_name": "Python 3",
      "language": "python"
    },
    "language_info": {
      "mimetype": "text/x-python",
      "nbconvert_exporter": "python",
      "name": "python",
      "pygments_lexer": "ipython3",
      "version": "3.5.4",
      "file_extension": ".py",
      "codemirror_mode": {
        "version": 3,
        "name": "ipython"
      }
    }
  },
  "nbformat": 4,
  "nbformat_minor": 2
}